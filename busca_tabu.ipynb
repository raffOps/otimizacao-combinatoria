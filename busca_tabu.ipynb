{
 "cells": [
  {
   "cell_type": "code",
   "execution_count": 1,
   "id": "53e318d7",
   "metadata": {},
   "outputs": [
    {
     "data": {
      "text/plain": [
       "get_distancias (generic function with 1 method)"
      ]
     },
     "execution_count": 1,
     "metadata": {},
     "output_type": "execute_result"
    }
   ],
   "source": [
    "function parse_file(file)\n",
    "    instancia = open(\"instancias/\"*file)\n",
    "    arr  = []\n",
    "    for line in eachline(instancia)\n",
    "        push!(arr, line)\n",
    "    end\n",
    "    close(instancia)\n",
    "    \n",
    "    vertices = []\n",
    "    premios = []\n",
    "    flag_vertices = true\n",
    "    for line in arr[8:length(arr)]\n",
    "        if startswith(line, \"DEMAND_SECTION\")\n",
    "            flag_vertices = false\n",
    "        elseif startswith(line, \"DEPOT_SECTION\")\n",
    "            break\n",
    "        elseif flag_vertices\n",
    "            x, y = split(line)[2:3]\n",
    "            x = parse(Int32, x)\n",
    "            y = parse(Int32, y)\n",
    "            push!(vertices, (x,y))\n",
    "        else\n",
    "            premio = split(line)[2]\n",
    "            premio = parse(Int32, premio)\n",
    "            push!(premios, premio)\n",
    "\n",
    "        end\n",
    "    end\n",
    "    return (vertices, premios)\n",
    "end\n",
    "\n",
    "\n",
    "function get_distancias(vertices)\n",
    "    cardinalidade = length(vertices)\n",
    "    distancias = zeros(cardinalidade, cardinalidade)\n",
    "    for i in 1:cardinalidade\n",
    "        for j in 1:cardinalidade\n",
    "            distancia = ((vertices[i][1] - vertices[j][1])^2 + (vertices[i][2] - vertices[j][2])^2)^(0.5)\n",
    "            distancias[i, j] =  round(distancia)\n",
    "        end\n",
    "    end\n",
    "    return distancias\n",
    "end"
   ]
  },
  {
   "cell_type": "code",
   "execution_count": 2,
   "id": "18bf0a01",
   "metadata": {},
   "outputs": [
    {
     "data": {
      "text/plain": [
       "get_tabela_tabu_inicial (generic function with 1 method)"
      ]
     },
     "execution_count": 2,
     "metadata": {},
     "output_type": "execute_result"
    }
   ],
   "source": [
    "function get_solucao_inicial(k)\n",
    "    solucao_inicial = [1]\n",
    "    vertices_nao_visitados = collect(2:k)\n",
    "    return solucao_inicial, vertices_nao_visitados\n",
    "end\n",
    "\n",
    "function get_tabela_tabu_inicial(k) \n",
    "    return zeros(Int32, (2, k, k))\n",
    "end"
   ]
  },
  {
   "cell_type": "code",
   "execution_count": 7,
   "id": "0d3da0b4",
   "metadata": {},
   "outputs": [
    {
     "data": {
      "text/plain": [
       "insere_movimento_na_tabela_tabu (generic function with 1 method)"
      ]
     },
     "execution_count": 7,
     "metadata": {},
     "output_type": "execute_result"
    }
   ],
   "source": [
    "function pop_at(array, index)\n",
    "    valor = array[index]\n",
    "    deleteat!(array, index)\n",
    "    return array, valor\n",
    "end\n",
    "\n",
    "function get_um_vizinho_a_direita(solucao, vertices_nao_visitados)\n",
    "    direcao = 2\n",
    "    \n",
    "    # copias de seguranca\n",
    "    vizinho = copy(solucao)\n",
    "    copia_vertices_nao_visitados = copy(vertices_nao_visitados)\n",
    "    \n",
    "    # escolhe um vertice para colocar no caminho\n",
    "    indice = rand(1:length(copia_vertices_nao_visitados))\n",
    "    vertice_adicionado = copia_vertices_nao_visitados[indice]\n",
    "    \n",
    "    # deleta o vertice do array de vertices nao visitados\n",
    "    deleteat!(copia_vertices_nao_visitados, indice)\n",
    "    \n",
    "    # escolhe um ponto de insercao do vertice na solucao\n",
    "    indice_de_inclusao = rand(2:length(solucao)+1)\n",
    "    \n",
    "    # insere o vertice na solucao\n",
    "    insert!(vizinho, indice_de_inclusao, vertice_adicionado)\n",
    "    \n",
    "    # calcula o custo associado a esse vizinho\n",
    "    custo = get_custo(vizinho)\n",
    "    \n",
    "    # retorna vizinho, vertices nao visitados, tripla da tabela tabu\n",
    "    return vizinho, custo, copia_vertices_nao_visitados, (direcao, vertice_adicionado, indice_de_inclusao)\n",
    "end\n",
    "    \n",
    "\n",
    "# solucao deve ser uma lista de tamanho maior que 1\n",
    "function get_um_vizinho_a_esquerda(solucao, vertices_nao_visitados) # solucao deve ser uma lista de tamanho maior que 1\n",
    "    direcao = 1\n",
    "    # copias de seguranca\n",
    "    vizinho = copy(solucao)\n",
    "    copia_vertices_nao_visitados = copy(vertices_nao_visitados)\n",
    "    \n",
    "    if length(solucao) == 1\n",
    "        return vizinho, 0, copia_vertices_nao_visitados, (direcao, 1, 1)\n",
    "        \n",
    "    else\n",
    "        # escolhe o indice do vertice no caminho para ser removido\n",
    "        indice_de_exclusao = rand(2:length(solucao))\n",
    "\n",
    "        # remove o vertice escolhido\n",
    "        vizinho, vertice_deletado = pop_at(vizinho, indice_de_exclusao)\n",
    "\n",
    "        # insere o vertice removido do caminho na array de vertices nao visitados\n",
    "        push!(copia_vertices_nao_visitados, vertice_deletado);\n",
    "\n",
    "        # calcula o custo associado a esse vizinho\n",
    "        custo = get_custo(vizinho)\n",
    "        \n",
    "        # retorna vizinho, vertices nao visitados, tripla da tabela tabu\n",
    "        return vizinho, custo, copia_vertices_nao_visitados, (direcao, vertice_deletado, 1)\n",
    "    end\n",
    "end\n",
    "\n",
    "# function get_vizinhos(solucao, vertices_nao_visitados)\n",
    "#     vizinhos = []\n",
    "#     for i in 1:trunc(Int32, sqrt(length(solucao)))\n",
    "#         vizinho = get_um_vizinho_a_esquerda(solucao, vertices_nao_visitados)\n",
    "#         if vizinho[1] != [1]\n",
    "#             push!(vizinhos, vizinho)\n",
    "#         end\n",
    "#     end\n",
    "#     for i in 1:trunc(Int32, length(vertices_nao_visitados) * 0.7)\n",
    "#         vizinho = get_um_vizinho_a_direita(solucao, vertices_nao_visitados)\n",
    "#         push!(vizinhos, vizinho)\n",
    "#     end\n",
    "#     return vizinhos\n",
    "#end\n",
    "\n",
    "function get_custo(caminho) # D e P sao variaveis globais definidas na celula abaixo\n",
    "    custo = 0\n",
    "    for i in 1:length(caminho)-1\n",
    "        saida = caminho[i]\n",
    "        entrada = caminho[i+1]\n",
    "        custo += D[saida, entrada] - P[entrada]\n",
    "    end\n",
    "    saida = last(caminho)\n",
    "    entrada = 1\n",
    "    custo += D[saida, entrada] - P[entrada] \n",
    "end\n",
    "\n",
    "function movimento_eh_tabu(tabela_tabu, movimento, iteracao)\n",
    "    direcao, vertice, indice = movimento\n",
    "    return tabela_tabu[direcao, vertice, indice] > iteracao\n",
    "end\n",
    "\n",
    "function insere_movimento_na_tabela_tabu(tabela_tabu, movimento, iteracao)\n",
    "    direcao, vertice, indice = movimento\n",
    "    if direcao == 1 && vertice == 1 && vertice == 1\n",
    "        tamanho_tabu = 9999999\n",
    "    else\n",
    "        tamanho_tabu = trunc(Int32, sqrt(size(tabela_tabu)[2]))\n",
    "    end\n",
    "    tabela_tabu[direcao, vertice, indice] = iteracao + tamanho_tabu\n",
    "    return tabela_tabu\n",
    "end      "
   ]
  },
  {
   "cell_type": "code",
   "execution_count": 8,
   "id": "d409c6a8",
   "metadata": {},
   "outputs": [],
   "source": [
    "arquivo = \"A-n32-k5.vrp\"\n",
    "v, P = parse_file(arquivo)\n",
    "D = get_distancias(v)\n",
    "k = length(P);\n",
    "D = D[1:k, 1:k]\n",
    "P = P[1:k];"
   ]
  },
  {
   "cell_type": "code",
   "execution_count": 9,
   "id": "2c613cde",
   "metadata": {},
   "outputs": [],
   "source": [
    "solucao, vertices_nao_visitados  = get_solucao_inicial(k);\n",
    "tabela_tabu = get_tabela_tabu_inicial(k);"
   ]
  },
  {
   "cell_type": "code",
   "execution_count": 11,
   "id": "25de649c",
   "metadata": {},
   "outputs": [],
   "source": [
    "menor_custo_global = 9999999\n",
    "melhor_vizinho_global = nothing\n",
    "for iteracao in 1:900000\n",
    "    menor_custo_local = 9999999\n",
    "    melhor_vizinho_local = nothing\n",
    "    #vizinhos = get_vizinhos(solucao, vertices_nao_visitados)\n",
    "    \n",
    "    for i in 1:trunc(Int32, sqrt(length(solucao)))\n",
    "        vizinho = get_um_vizinho_a_esquerda(solucao, vertices_nao_visitados)\n",
    "        if vizinho[1] != [1]\n",
    "            if vizinho[2] < menor_custo_local && !(movimento_eh_tabu(tabela_tabu, vizinho[4], iteracao))\n",
    "            menor_custo_local = vizinho[2]\n",
    "            melhor_vizinho_local = vizinho\n",
    "            end\n",
    "        \n",
    "            if  vizinho[2] < menor_custo_global\n",
    "                menor_custo_local = vizinho[2]\n",
    "                melhor_vizinho_local = vizinho\n",
    "                menor_custo_global = vizinho[2]\n",
    "                melhor_vizinho_global = vizinho\n",
    "            end\n",
    "        end\n",
    "    end   \n",
    "    \n",
    "    for i in 1:trunc(Int32, length(vertices_nao_visitados) * 0.7)\n",
    "        vizinho = get_um_vizinho_a_direita(solucao, vertices_nao_visitados)\n",
    "        if vizinho[2] < menor_custo_local && !(movimento_eh_tabu(tabela_tabu, vizinho[4], iteracao))\n",
    "            menor_custo_local = vizinho[2]\n",
    "            melhor_vizinho_local = vizinho\n",
    "        end\n",
    "        \n",
    "        if  vizinho[2] < menor_custo_global\n",
    "            menor_custo_local = vizinho[2]\n",
    "            melhor_vizinho_local = vizinho\n",
    "            menor_custo_global = vizinho[2]\n",
    "            melhor_vizinho_global = vizinho\n",
    "        end\n",
    "    end\n",
    "    \n",
    "    solucao = melhor_vizinho_local[1]\n",
    "    vertices_nao_visitados = melhor_vizinho_local[3]\n",
    "    tabela_tabu = insere_movimento_na_tabela_tabu(tabela_tabu, melhor_vizinho_local[4], iteracao)  \n",
    "end\n",
    "    "
   ]
  },
  {
   "cell_type": "code",
   "execution_count": 12,
   "id": "db82786b",
   "metadata": {},
   "outputs": [
    {
     "data": {
      "text/plain": [
       "([1, 28, 25, 15, 8, 14, 18, 20, 32, 22, 2, 13, 17, 31], -21.0, [4, 5, 9, 10, 11, 12, 16, 19, 23, 24, 26, 29, 30, 3, 6, 21, 7, 27], (2, 15, 4))"
      ]
     },
     "execution_count": 12,
     "metadata": {},
     "output_type": "execute_result"
    }
   ],
   "source": [
    "melhor_vizinho_global"
   ]
  },
  {
   "cell_type": "code",
   "execution_count": null,
   "id": "76529270",
   "metadata": {},
   "outputs": [],
   "source": []
  }
 ],
 "metadata": {
  "kernelspec": {
   "display_name": "Julia 1.4.1",
   "language": "julia",
   "name": "julia-1.4"
  },
  "language_info": {
   "file_extension": ".jl",
   "mimetype": "application/julia",
   "name": "julia",
   "version": "1.4.1"
  }
 },
 "nbformat": 4,
 "nbformat_minor": 5
}
