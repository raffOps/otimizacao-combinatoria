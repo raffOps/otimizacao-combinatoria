{
 "cells": [
  {
   "cell_type": "code",
   "execution_count": 94,
   "id": "ac79cc14",
   "metadata": {},
   "outputs": [],
   "source": [
    "using Random\n",
    "using StatsBase\n",
    "using Formatting: printfmt"
   ]
  },
  {
   "cell_type": "code",
   "execution_count": 95,
   "id": "53e318d7",
   "metadata": {},
   "outputs": [
    {
     "data": {
      "text/plain": [
       "get_distancias (generic function with 1 method)"
      ]
     },
     "execution_count": 95,
     "metadata": {},
     "output_type": "execute_result"
    }
   ],
   "source": [
    "function parse_file(file)\n",
    "    instancia = open(\"instancias/\"*file)\n",
    "    arr  = []\n",
    "    for line in eachline(instancia)\n",
    "        push!(arr, line)\n",
    "    end\n",
    "    close(instancia)\n",
    "    \n",
    "    vertices = []\n",
    "    premios = []\n",
    "    flag_vertices = true\n",
    "    for line in arr[8:length(arr)]\n",
    "        if startswith(line, \"DEMAND_SECTION\")\n",
    "            flag_vertices = false\n",
    "        elseif startswith(line, \"DEPOT_SECTION\")\n",
    "            break\n",
    "        elseif flag_vertices\n",
    "            x, y = split(line)[2:3]\n",
    "            x = parse(Int32, x)\n",
    "            y = parse(Int32, y)\n",
    "            push!(vertices, (x,y))\n",
    "        else\n",
    "            premio = split(line)[2]\n",
    "            premio = parse(Int32, premio)\n",
    "            push!(premios, premio)\n",
    "\n",
    "        end\n",
    "    end\n",
    "    return (vertices, premios)\n",
    "end\n",
    "\n",
    "\n",
    "function get_distancias(vertices)\n",
    "    cardinalidade = length(vertices)\n",
    "    distancias = zeros(cardinalidade, cardinalidade)\n",
    "    for i in 1:cardinalidade\n",
    "        for j in 1:cardinalidade\n",
    "            distancia = ((vertices[i][1] - vertices[j][1])^2 + (vertices[i][2] - vertices[j][2])^2)^(0.5)\n",
    "            distancias[i, j] =  round(distancia)\n",
    "        end\n",
    "    end\n",
    "    return distancias\n",
    "end"
   ]
  },
  {
   "cell_type": "code",
   "execution_count": 96,
   "id": "18bf0a01",
   "metadata": {},
   "outputs": [
    {
     "data": {
      "text/plain": [
       "get_tabela_tabu_inicial (generic function with 1 method)"
      ]
     },
     "execution_count": 96,
     "metadata": {},
     "output_type": "execute_result"
    }
   ],
   "source": [
    "function get_solucao_inicial(k)\n",
    "    solucao_inicial = [1]\n",
    "    vertices_nao_visitados = collect(2:k)\n",
    "    return solucao_inicial, vertices_nao_visitados\n",
    "end\n",
    "\n",
    "function get_tabela_tabu_inicial(k) \n",
    "    return zeros(Int32, (2, k, k))\n",
    "end"
   ]
  },
  {
   "cell_type": "code",
   "execution_count": 198,
   "id": "0d3da0b4",
   "metadata": {},
   "outputs": [
    {
     "data": {
      "text/plain": [
       "insere_movimento_na_tabela_tabu (generic function with 1 method)"
      ]
     },
     "execution_count": 198,
     "metadata": {},
     "output_type": "execute_result"
    }
   ],
   "source": [
    "function pop_at(array, index)\n",
    "    valor = array[index]\n",
    "    deleteat!(array, index)\n",
    "    return array, valor\n",
    "end\n",
    "\n",
    "function get_um_vizinho_a_direita(solucao, vertices_nao_visitados)\n",
    "    direcao = 2\n",
    "    \n",
    "    # copias de seguranca\n",
    "    vizinho = copy(solucao)\n",
    "    copia_vertices_nao_visitados = copy(vertices_nao_visitados)\n",
    "    \n",
    "    # escolhe um vertice para colocar no caminho\n",
    "    indice = rand(1:length(copia_vertices_nao_visitados))\n",
    "    vertice_adicionado = copia_vertices_nao_visitados[indice]\n",
    "    \n",
    "    # deleta o vertice do array de vertices nao visitados\n",
    "    deleteat!(copia_vertices_nao_visitados, indice)\n",
    "    \n",
    "    # escolhe um ponto de insercao do vertice na solucao\n",
    "    indice_de_inclusao = rand(2:length(solucao)+1)\n",
    "    \n",
    "    # insere o vertice na solucao\n",
    "    insert!(vizinho, indice_de_inclusao, vertice_adicionado)\n",
    "    \n",
    "    # calcula o custo associado a esse vizinho\n",
    "    custo = get_custo(vizinho)\n",
    "    \n",
    "    # retorna vizinho, vertices nao visitados, tripla da tabela tabu\n",
    "    return vizinho, custo, copia_vertices_nao_visitados, (direcao, vertice_adicionado, indice_de_inclusao)\n",
    "end\n",
    "    \n",
    "\n",
    "# solucao deve ser uma lista de tamanho maior que 1\n",
    "function get_um_vizinho_a_esquerda(solucao, vertices_nao_visitados) # solucao deve ser uma lista de tamanho maior que 1\n",
    "    direcao = 1\n",
    "    # copias de seguranca\n",
    "    vizinho = copy(solucao)\n",
    "    copia_vertices_nao_visitados = copy(vertices_nao_visitados)\n",
    "    \n",
    "    if length(solucao) == 1\n",
    "        return vizinho, 0, copia_vertices_nao_visitados, (direcao, 1, 1)\n",
    "        \n",
    "    else\n",
    "        # escolhe o indice do vertice no caminho para ser removido\n",
    "        indice_de_exclusao = rand(2:length(solucao))\n",
    "\n",
    "        # remove o vertice escolhido\n",
    "        vizinho, vertice_deletado = pop_at(vizinho, indice_de_exclusao)\n",
    "\n",
    "        # insere o vertice removido do caminho na array de vertices nao visitados\n",
    "        push!(copia_vertices_nao_visitados, vertice_deletado);\n",
    "\n",
    "        # calcula o custo associado a esse vizinho\n",
    "        custo = get_custo(vizinho)\n",
    "        \n",
    "        # retorna vizinho, vertices nao visitados, tripla da tabela tabu\n",
    "        return vizinho, custo, copia_vertices_nao_visitados, (direcao, vertice_deletado, 1)\n",
    "    end\n",
    "end\n",
    "\n",
    "function get_vizinhos(solucao, vertices_nao_visitados)\n",
    "    vizinhos = []\n",
    "    for i in 1:trunc(Int32, sqrt(length(solucao)))\n",
    "        vizinho = get_um_vizinho_a_esquerda(solucao, vertices_nao_visitados)\n",
    "        if vizinho[1] != [1]\n",
    "            push!(vizinhos, vizinho)\n",
    "        end\n",
    "    end\n",
    "    for i in 1:trunc(Int32, length(vertices_nao_visitados) * 0.7)\n",
    "        vizinho = get_um_vizinho_a_direita(solucao, vertices_nao_visitados)\n",
    "        push!(vizinhos, vizinho)\n",
    "    end\n",
    "    return vizinhos\n",
    "end\n",
    "\n",
    "function get_custo(caminho)\n",
    "    custo = 0\n",
    "    for i in 1:length(caminho)-1\n",
    "        saida = caminho[i]\n",
    "        entrada = caminho[i+1]\n",
    "        custo += D[saida, entrada] - P[entrada]\n",
    "    end\n",
    "    saida = last(caminho)\n",
    "    entrada = 1\n",
    "    custo += D[saida, entrada] - P[entrada] \n",
    "end\n",
    "\n",
    "function movimento_eh_tabu(tabela_tabu, movimento, iteracao)\n",
    "    direcao, vertice, indice = movimento\n",
    "    return tabela_tabu[direcao, vertice, indice] > iteracao\n",
    "end\n",
    "\n",
    "function insere_movimento_na_tabela_tabu(tabela_tabu, movimento, iteracao)\n",
    "    direcao, vertice, indice = movimento\n",
    "    if direcao == 1 && vertice == 1 && vertice == 1\n",
    "        tamanho_tabu = 9999999\n",
    "    else\n",
    "        tamanho_tabu = trunc(Int32, sqrt(size(tabela_tabu)[2]))\n",
    "    end\n",
    "    tabela_tabu[direcao, vertice, indice] = iteracao + tamanho_tabu\n",
    "    return tabela_tabu\n",
    "end      "
   ]
  },
  {
   "cell_type": "code",
   "execution_count": 199,
   "id": "f9af35b2",
   "metadata": {},
   "outputs": [],
   "source": [
    "# solucao = [1, 3, 7, 4]\n",
    "# vertices_nao_visitados = [2, 5, 6, 8]\n",
    "\n",
    "# get_um_vizinho_a_direita(solucao, vertices_nao_visitados)\n",
    "\n",
    "# solucao = [1]\n",
    "# vertices_nao_visitados = [2,3,4,5,6,7,8]\n",
    "\n",
    "# get_um_vizinho_a_esquerda(solucao, vertices_nao_visitados)"
   ]
  },
  {
   "cell_type": "code",
   "execution_count": 225,
   "id": "d409c6a8",
   "metadata": {},
   "outputs": [],
   "source": [
    "arquivo = \"A-n80-k10.vrp\"\n",
    "v, P = parse_file(arquivo)\n",
    "D = get_distancias(v)\n",
    "k = length(P);\n",
    "D = D[1:k, 1:k]\n",
    "P = P[1:k];"
   ]
  },
  {
   "cell_type": "code",
   "execution_count": 226,
   "id": "2c613cde",
   "metadata": {},
   "outputs": [],
   "source": [
    "solucao, vertices_nao_visitados  = get_solucao_inicial(k);\n",
    "tabela_tabu = get_tabela_tabu_inicial(k);"
   ]
  },
  {
   "cell_type": "code",
   "execution_count": 227,
   "id": "25de649c",
   "metadata": {},
   "outputs": [],
   "source": [
    "menor_custo_global = 9999999\n",
    "melhor_vizinho_global = nothing\n",
    "for iteracao in 1:900000\n",
    "    menor_custo_local = 9999999\n",
    "    melhor_vizinho_local = nothing\n",
    "    vizinhos = get_vizinhos(solucao, vertices_nao_visitados)\n",
    "    for i in 1:length(vizinhos)\n",
    "        vizinho = vizinhos[i]\n",
    "        #printfmt(\"$vizinho[2], $\\n\\n\")\n",
    "        if vizinho[2] < menor_custo_local && !(movimento_eh_tabu(tabela_tabu, vizinho[4], iteracao))\n",
    "            menor_custo_local = vizinho[2]\n",
    "            melhor_vizinho_local = vizinho\n",
    "        end\n",
    "        \n",
    "        if  vizinho[2] < menor_custo_global\n",
    "            menor_custo_local = vizinho[2]\n",
    "            melhor_vizinho_local = vizinho\n",
    "            menor_custo_global = vizinho[2]\n",
    "            melhor_vizinho_global = vizinho\n",
    "        end\n",
    "    end\n",
    "    solucao = melhor_vizinho_local[1]\n",
    "    vertices_nao_visitados = melhor_vizinho_local[3]\n",
    "    tabela_tabu = insere_movimento_na_tabela_tabu(tabela_tabu, melhor_vizinho_local[4], iteracao)  \n",
    "end\n",
    "    "
   ]
  },
  {
   "cell_type": "code",
   "execution_count": 228,
   "id": "7bf9b92a",
   "metadata": {},
   "outputs": [
    {
     "data": {
      "text/plain": [
       "([1, 50, 74, 14, 43, 52, 78, 4, 40, 61  …  80, 29, 53, 12, 64, 72, 11, 8, 2, 41], -208.0, [5, 10, 23, 33, 34, 36, 46, 51, 55, 57  …  44, 35, 30, 20, 22, 25, 54, 76, 37, 63], (2, 69, 29))"
      ]
     },
     "execution_count": 228,
     "metadata": {},
     "output_type": "execute_result"
    }
   ],
   "source": [
    "melhor_vizinho_global"
   ]
  },
  {
   "cell_type": "code",
   "execution_count": 109,
   "id": "53197c6a",
   "metadata": {},
   "outputs": [],
   "source": [
    "solucao, vertices_nao_visitados  = get_solucao_inicial(k);\n",
    "tabela_tabu = get_tabela_tabu_inicial(k);\n",
    "menor_custo_global = 9999999\n",
    "melhor_vizinho_global = nothing\n",
    "\n",
    "menor_custo_local = 9999999\n",
    "melhor_vizinho_local = nothing\n",
    "vizinhos = get_vizinhos(solucao, vertices_nao_visitados);"
   ]
  },
  {
   "cell_type": "code",
   "execution_count": 111,
   "id": "d5242364",
   "metadata": {},
   "outputs": [],
   "source": [
    "for i in 1:length(vizinhos)\n",
    "    vizinho = vizinhos[i]\n",
    "    if vizinho[2] < menor_custo_local && !(movimento_eh_tabu(tabela_tabu, vizinho[4], 0))\n",
    "        menor_custo_local = vizinho[2]\n",
    "        melhor_vizinho_local = vizinho\n",
    "    end\n",
    "        \n",
    "    if  vizinho[2] < menor_custo_global\n",
    "        menor_custo_local = vizinho[2]\n",
    "        melhor_vizinho_local = vizinho\n",
    "        menor_custo_global = vizinho[2]\n",
    "        melhor_vizinho_global = vizinho\n",
    "    end\n",
    "end\n"
   ]
  },
  {
   "cell_type": "code",
   "execution_count": 112,
   "id": "e2172dfd",
   "metadata": {},
   "outputs": [
    {
     "data": {
      "text/plain": [
       "([1], 0, [2, 3, 4, 5, 6, 7, 8, 9, 10, 11  …  23, 24, 25, 26, 27, 28, 29, 30, 31, 32], (1, 1, 1))"
      ]
     },
     "execution_count": 112,
     "metadata": {},
     "output_type": "execute_result"
    }
   ],
   "source": [
    "melhor_vizinho_local"
   ]
  },
  {
   "cell_type": "code",
   "execution_count": 114,
   "id": "9e4ba21c",
   "metadata": {},
   "outputs": [
    {
     "data": {
      "text/plain": [
       "2×32×32 Array{Int32,3}:\n",
       "[:, :, 1] =\n",
       " 5  0  0  0  0  0  0  0  0  0  0  0  0  …  0  0  0  0  0  0  0  0  0  0  0  0\n",
       " 0  0  0  0  0  0  0  0  0  0  0  0  0     0  0  0  0  0  0  0  0  0  0  0  0\n",
       "\n",
       "[:, :, 2] =\n",
       " 0  0  0  0  0  0  0  0  0  0  0  0  0  …  0  0  0  0  0  0  0  0  0  0  0  0\n",
       " 0  0  0  0  0  0  0  0  0  0  0  0  0     0  0  0  0  0  0  0  0  0  0  0  0\n",
       "\n",
       "[:, :, 3] =\n",
       " 0  0  0  0  0  0  0  0  0  0  0  0  0  …  0  0  0  0  0  0  0  0  0  0  0  0\n",
       " 0  0  0  0  0  0  0  0  0  0  0  0  0     0  0  0  0  0  0  0  0  0  0  0  0\n",
       "\n",
       "...\n",
       "\n",
       "[:, :, 30] =\n",
       " 0  0  0  0  0  0  0  0  0  0  0  0  0  …  0  0  0  0  0  0  0  0  0  0  0  0\n",
       " 0  0  0  0  0  0  0  0  0  0  0  0  0     0  0  0  0  0  0  0  0  0  0  0  0\n",
       "\n",
       "[:, :, 31] =\n",
       " 0  0  0  0  0  0  0  0  0  0  0  0  0  …  0  0  0  0  0  0  0  0  0  0  0  0\n",
       " 0  0  0  0  0  0  0  0  0  0  0  0  0     0  0  0  0  0  0  0  0  0  0  0  0\n",
       "\n",
       "[:, :, 32] =\n",
       " 0  0  0  0  0  0  0  0  0  0  0  0  0  …  0  0  0  0  0  0  0  0  0  0  0  0\n",
       " 0  0  0  0  0  0  0  0  0  0  0  0  0     0  0  0  0  0  0  0  0  0  0  0  0"
      ]
     },
     "execution_count": 114,
     "metadata": {},
     "output_type": "execute_result"
    }
   ],
   "source": [
    "solucao = melhor_vizinho_local[1]\n",
    "vertices_nao_visitados = melhor_vizinho_local[3]\n",
    "tabela_tabu = insere_movimento_na_tabela_tabu(tabela_tabu, melhor_vizinho_local[4], 0) "
   ]
  },
  {
   "cell_type": "code",
   "execution_count": 158,
   "id": "563a1c5e",
   "metadata": {},
   "outputs": [],
   "source": [
    "arquivo = \"A-n32-k5.vrp\"\n",
    "v, P = parse_file(arquivo)\n",
    "D = get_distancias(v)\n",
    "k = length(P);\n",
    "k = 6 \n",
    "D = D[1:k, 1:k]\n",
    "P = P[1:k];"
   ]
  },
  {
   "cell_type": "code",
   "execution_count": 168,
   "id": "d143d845",
   "metadata": {},
   "outputs": [
    {
     "data": {
      "text/plain": [
       "get_custo (generic function with 2 methods)"
      ]
     },
     "execution_count": 168,
     "metadata": {},
     "output_type": "execute_result"
    }
   ],
   "source": [
    "function get_custo(caminho, distancias, premios)\n",
    "    custo = 0\n",
    "    for i in 1:length(caminho)-1\n",
    "        saida = caminho[i]\n",
    "        entrada = caminho[i+1]\n",
    "        custo += distancias[saida, entrada] - premios[entrada]\n",
    "    end\n",
    "    saida = last(caminho)\n",
    "    entrada = 1\n",
    "    custo += distancias[saida, entrada] - premios[entrada]\n",
    "    return custo\n",
    "end"
   ]
  },
  {
   "cell_type": "code",
   "execution_count": 169,
   "id": "672bdc86",
   "metadata": {},
   "outputs": [
    {
     "data": {
      "text/plain": [
       "6-element Array{Int64,1}:\n",
       " 1\n",
       " 4\n",
       " 6\n",
       " 3\n",
       " 5\n",
       " 2"
      ]
     },
     "execution_count": 169,
     "metadata": {},
     "output_type": "execute_result"
    }
   ],
   "source": [
    "caminho = [1, 4, 6, 3, 5, 2]"
   ]
  },
  {
   "cell_type": "code",
   "execution_count": 171,
   "id": "0473a5fc",
   "metadata": {},
   "outputs": [
    {
     "data": {
      "text/plain": [
       "1"
      ]
     },
     "execution_count": 171,
     "metadata": {},
     "output_type": "execute_result"
    }
   ],
   "source": [
    "A = zeros(k, k)\n",
    "V = zeros(k)\n",
    "for i in 1:length(caminho)-1\n",
    "    saida = caminho[i]\n",
    "    entrada = caminho[i+1]\n",
    "    A[saida, entrada] = 1\n",
    "    V[entrada] = 1\n",
    "    end\n",
    "saida = last(caminho)\n",
    "entrada = 1\n",
    "A[saida, entrada] = 1\n",
    "V[entrada] = 1"
   ]
  },
  {
   "cell_type": "code",
   "execution_count": 176,
   "id": "2473a6e7",
   "metadata": {},
   "outputs": [
    {
     "data": {
      "text/plain": [
       "409.0"
      ]
     },
     "execution_count": 176,
     "metadata": {},
     "output_type": "execute_result"
    }
   ],
   "source": [
    "sum(A .* D) "
   ]
  },
  {
   "cell_type": "code",
   "execution_count": 170,
   "id": "8eef931c",
   "metadata": {},
   "outputs": [
    {
     "data": {
      "text/plain": [
       "337.0"
      ]
     },
     "execution_count": 170,
     "metadata": {},
     "output_type": "execute_result"
    }
   ],
   "source": [
    "get_custo(caminho, D, P)"
   ]
  },
  {
   "cell_type": "code",
   "execution_count": 167,
   "id": "1f8a6b60",
   "metadata": {},
   "outputs": [
    {
     "data": {
      "text/plain": [
       "337.0"
      ]
     },
     "execution_count": 167,
     "metadata": {},
     "output_type": "execute_result"
    }
   ],
   "source": [
    "D[1,4] - P[4] + D[4,6] - P[6] + D[6,3] - P[3] + D[3,5] - P[5] + D[5,2] - P[2] + D[2,1] - P[1]"
   ]
  },
  {
   "cell_type": "code",
   "execution_count": 190,
   "id": "9cfc2dab",
   "metadata": {},
   "outputs": [
    {
     "data": {
      "text/plain": [
       "32×32 Array{Float64,2}:\n",
       "   0.0   35.0   78.0  76.0  98.0   55.0  …  26.0  85.0   62.0  16.0   73.0\n",
       "  35.0    0.0   60.0  59.0  91.0   81.0     46.0  79.0   80.0  19.0   39.0\n",
       "  78.0   60.0    0.0   3.0  37.0   87.0     64.0  29.0   72.0  65.0   48.0\n",
       "  76.0   59.0    3.0   0.0  36.0   83.0     62.0  27.0   68.0  63.0   49.0\n",
       "  98.0   91.0   37.0  36.0   0.0   84.0     76.0  13.0   63.0  89.0   85.0\n",
       "  55.0   81.0   87.0  83.0  84.0    0.0  …  34.0  74.0   21.0  63.0  109.0\n",
       "  52.0   40.0   26.0  24.0  51.0   66.0     39.0  38.0   55.0  40.0   47.0\n",
       "  37.0   13.0   48.0  47.0  78.0   74.0     40.0  66.0   71.0  21.0   37.0\n",
       "  86.0   84.0   41.0  38.0  17.0   67.0     62.0  13.0   46.0  80.0   86.0\n",
       "  88.0   94.0   59.0  56.0  34.0   57.0     63.0  32.0   36.0  86.0  102.0\n",
       "  79.0  100.0   90.0  87.0  76.0   27.0  …  56.0  70.0   21.0  85.0  122.0\n",
       " 101.0   97.0   45.0  44.0   9.0   83.0     79.0  19.0   62.0  94.0   93.0\n",
       "  29.0    8.0   67.0  66.0  96.0   78.0     44.0  84.0   80.0  15.0   47.0\n",
       "   ⋮                                ⋮    ⋱                      ⋮    \n",
       "  36.0   67.0   88.0  85.0  94.0   21.0  …  25.0  83.0   38.0  48.0  100.0\n",
       "  64.0   30.0   49.0  49.0  85.0  102.0     69.0  75.0   96.0  48.0    9.0\n",
       "  84.0   91.0   58.0  56.0  36.0   53.0     59.0  32.0   32.0  82.0  100.0\n",
       "  78.0   64.0    9.0   7.0  29.0   81.0     62.0  20.0   65.0  67.0   56.0\n",
       "  25.0   39.0   58.0  55.0  73.0   42.0      8.0  60.0   42.0  24.0   68.0\n",
       "  76.0  102.0  101.0  98.0  90.0   22.0  …  56.0  83.0   29.0  85.0  128.0\n",
       "  21.0   19.0   58.0  56.0  82.0   61.0     27.0  70.0   62.0   7.0   53.0\n",
       "  26.0   46.0   64.0  62.0  76.0   34.0      0.0  64.0   37.0  29.0   76.0\n",
       "  85.0   79.0   29.0  27.0  13.0   74.0     64.0   0.0   55.0  77.0   76.0\n",
       "  62.0   80.0   72.0  68.0  63.0   21.0     37.0  55.0    0.0  66.0  102.0\n",
       "  16.0   19.0   65.0  63.0  89.0   63.0  …  29.0  77.0   66.0   0.0   57.0\n",
       "  73.0   39.0   48.0  49.0  85.0  109.0     76.0  76.0  102.0  57.0    0.0"
      ]
     },
     "execution_count": 190,
     "metadata": {},
     "output_type": "execute_result"
    }
   ],
   "source": [
    "D"
   ]
  },
  {
   "cell_type": "code",
   "execution_count": null,
   "id": "2b39f9c1",
   "metadata": {},
   "outputs": [],
   "source": []
  }
 ],
 "metadata": {
  "kernelspec": {
   "display_name": "Julia 1.4.1",
   "language": "julia",
   "name": "julia-1.4"
  },
  "language_info": {
   "file_extension": ".jl",
   "mimetype": "application/julia",
   "name": "julia",
   "version": "1.4.1"
  }
 },
 "nbformat": 4,
 "nbformat_minor": 5
}
