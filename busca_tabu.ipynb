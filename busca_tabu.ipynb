{
 "cells": [
  {
   "cell_type": "code",
   "execution_count": 27,
   "id": "ac79cc14",
   "metadata": {},
   "outputs": [],
   "source": [
    "using Random\n",
    "using StatsBase\n",
    "using Formatting: printfmt\n"
   ]
  },
  {
   "cell_type": "code",
   "execution_count": 2,
   "id": "53e318d7",
   "metadata": {},
   "outputs": [
    {
     "data": {
      "text/plain": [
       "get_distancias (generic function with 1 method)"
      ]
     },
     "execution_count": 2,
     "metadata": {},
     "output_type": "execute_result"
    }
   ],
   "source": [
    "function parse_file(file)\n",
    "    instancia = open(\"instancias/\"*file)\n",
    "    arr  = []\n",
    "    for line in eachline(instancia)\n",
    "        push!(arr, line)\n",
    "    end\n",
    "    close(instancia)\n",
    "    \n",
    "    vertices = []\n",
    "    premios = []\n",
    "    flag_vertices = true\n",
    "    for line in arr[8:length(arr)]\n",
    "        if startswith(line, \"DEMAND_SECTION\")\n",
    "            flag_vertices = false\n",
    "        elseif startswith(line, \"DEPOT_SECTION\")\n",
    "            break\n",
    "        elseif flag_vertices\n",
    "            x, y = split(line)[2:3]\n",
    "            x = parse(Int32, x)\n",
    "            y = parse(Int32, y)\n",
    "            push!(vertices, (x,y))\n",
    "        else\n",
    "            premio = split(line)[2]\n",
    "            premio = parse(Int32, premio)\n",
    "            push!(premios, premio)\n",
    "\n",
    "        end\n",
    "    end\n",
    "    return (vertices, premios)\n",
    "end\n",
    "\n",
    "\n",
    "function get_distancias(vertices)\n",
    "    cardinalidade = length(vertices)\n",
    "    distancias = zeros(cardinalidade, cardinalidade)\n",
    "    for i in 1:cardinalidade\n",
    "        for j in 1:cardinalidade\n",
    "            distancia = ((vertices[i][1] - vertices[j][1])^2 + (vertices[i][2] - vertices[j][2])^2)^(0.5)\n",
    "            distancias[i, j] =  round(distancia)\n",
    "        end\n",
    "    end\n",
    "    return distancias\n",
    "end"
   ]
  },
  {
   "cell_type": "code",
   "execution_count": 3,
   "id": "8f53b990",
   "metadata": {},
   "outputs": [],
   "source": [
    "arquivo = \"A-n32-k5.vrp\"\n",
    "v, P = parse_file(arquivo)\n",
    "D = get_distancias(v)\n",
    "k = length(P);\n",
    "\n",
    "k=8\n",
    "D = D[1:k, 1:k]\n",
    "P = P[1:k];"
   ]
  },
  {
   "cell_type": "code",
   "execution_count": 12,
   "id": "18bf0a01",
   "metadata": {},
   "outputs": [
    {
     "data": {
      "text/plain": [
       "get_tabela_tabu_inicial (generic function with 1 method)"
      ]
     },
     "execution_count": 12,
     "metadata": {},
     "output_type": "execute_result"
    }
   ],
   "source": [
    "function get_solucao_inicial(k)\n",
    "    solucao_inicial = [1]\n",
    "    vertices_nao_visitados = collect(2:k)\n",
    "#     for i in 1:k-1\n",
    "#         solucao_inicial[i, i+1] = 1\n",
    "#     end\n",
    "#     solucao_inicial[k, 1] = 1\n",
    "    return solucao_inicial, vertices_nao_visitados\n",
    "end\n",
    "\n",
    "function get_tabela_tabu_inicial(k)\n",
    "    return zeros(Bool, k, k)\n",
    "end"
   ]
  },
  {
   "cell_type": "code",
   "execution_count": 13,
   "id": "eb8b2f2d",
   "metadata": {},
   "outputs": [],
   "source": [
    "solucao, vertices_nao_visitados  = get_solucao_inicial(k);"
   ]
  },
  {
   "cell_type": "code",
   "execution_count": 215,
   "id": "a4a18882",
   "metadata": {},
   "outputs": [
    {
     "data": {
      "text/plain": [
       "4-element Array{Int64,1}:\n",
       " 2\n",
       " 5\n",
       " 6\n",
       " 8"
      ]
     },
     "execution_count": 215,
     "metadata": {},
     "output_type": "execute_result"
    }
   ],
   "source": [
    "solucao = [1, 3, 7, 4]\n",
    "vertices_nao_visitados = [2, 5, 6, 8]"
   ]
  },
  {
   "cell_type": "code",
   "execution_count": 126,
   "id": "b7de9f12",
   "metadata": {},
   "outputs": [],
   "source": [
    "tabela_tabu = get_tabela_tabu_inicial(k);"
   ]
  },
  {
   "cell_type": "code",
   "execution_count": 93,
   "id": "934ad346",
   "metadata": {},
   "outputs": [
    {
     "name": "stdout",
     "output_type": "stream",
     "text": [
      "1, 2, 4"
     ]
    }
   ],
   "source": [
    "# adicionar\n",
    "vertice_nao_visitado = vertices_nao_visitados[rand(1:length(vertices_nao_visitados))]\n",
    "indice_de_inclusao = rand(2:length(solucao)+1)\n",
    "direcao = 1\n",
    "printfmt(\"$funcao, $indice_de_inclusao, $vertice_nao_visitado\")"
   ]
  },
  {
   "cell_type": "code",
   "execution_count": 31,
   "id": "8c67fe2d",
   "metadata": {},
   "outputs": [
    {
     "name": "stdout",
     "output_type": "stream",
     "text": [
      "1, 4, 6"
     ]
    }
   ],
   "source": [
    "printfmt(\"$funcao, $indice_de_inclusao, $vertice_nao_visitado\")"
   ]
  },
  {
   "cell_type": "code",
   "execution_count": 129,
   "id": "25e6a0e9",
   "metadata": {},
   "outputs": [
    {
     "name": "stdout",
     "output_type": "stream",
     "text": [
      "0, 3"
     ]
    }
   ],
   "source": [
    "# remover\n",
    "if length(solucao) == 1\n",
    "    indice_de_remocao = 0\n",
    "else\n",
    "    indice_de_remocao = rand(2:length(solucao))\n",
    "end\n",
    "direcao = 0\n",
    "printfmt(\"$direcao, $indice_de_remocao\")"
   ]
  },
  {
   "cell_type": "code",
   "execution_count": 374,
   "id": "9a7cc4eb",
   "metadata": {},
   "outputs": [
    {
     "data": {
      "text/plain": [
       "pop_at (generic function with 1 method)"
      ]
     },
     "execution_count": 374,
     "metadata": {},
     "output_type": "execute_result"
    }
   ],
   "source": [
    "function pop_at(array, index)\n",
    "    valor = array[index]\n",
    "    deleteat!(array, index)\n",
    "    return array, valor\n",
    "end"
   ]
  },
  {
   "cell_type": "code",
   "execution_count": 388,
   "id": "cc073362",
   "metadata": {},
   "outputs": [
    {
     "data": {
      "text/plain": [
       "get_um_vizinho_a_direita (generic function with 2 methods)"
      ]
     },
     "execution_count": 388,
     "metadata": {},
     "output_type": "execute_result"
    }
   ],
   "source": [
    "function get_um_vizinho_a_direita(solucao, vertices_nao_visitados)\n",
    "    direcao = 1\n",
    "    \n",
    "    # copias de seguranca\n",
    "    vizinho = copy(solucao)\n",
    "    copia_vertices_nao_visitados = copy(vertices_nao_visitados)\n",
    "    \n",
    "    # escolhe um vertice para colocar no caminho\n",
    "    indice = rand(1:length(copia_vertices_nao_visitados))\n",
    "    vertice_adicionado = copia_vertices_nao_visitados[indice]\n",
    "    \n",
    "    # deleta o vertice do array de vertices nao visitados\n",
    "    deleteat!(copia_vertices_nao_visitados, indice)\n",
    "    \n",
    "    # escolhe um ponto de insercao do vertice na solucao\n",
    "    indice_de_inclusao = rand(2:length(solucao)+1)\n",
    "    \n",
    "    # insere o vertice na solucao\n",
    "    insert!(vizinho, indice_de_inclusao, vertice_adicionado)\n",
    "    \n",
    "    # retorna vizinho, vertices nao visitados, tripla da tabela tabu\n",
    "    return vizinho, copia_vertices_nao_visitados, (direcao, vertice_adicionado, indice_de_inclusao)\n",
    "end\n",
    "    "
   ]
  },
  {
   "cell_type": "code",
   "execution_count": 390,
   "id": "0629fca1",
   "metadata": {},
   "outputs": [
    {
     "data": {
      "text/plain": [
       "get_um_vizinho_a_esquerda (generic function with 1 method)"
      ]
     },
     "execution_count": 390,
     "metadata": {},
     "output_type": "execute_result"
    }
   ],
   "source": [
    "function get_um_vizinho_a_esquerda(solucao, vertices_nao_visitados)\n",
    "    direcao = 0\n",
    "    \n",
    "    # copias de seguranca\n",
    "    vizinho = copy(solucao)\n",
    "    copia_vertices_nao_visitados = copy(vertices_nao_visitados)\n",
    "    \n",
    "    # escolhe o indice do vertice no caminho para ser removido\n",
    "    indice_de_exclusao = rand(2:length(solucao))\n",
    "    \n",
    "    # remove o vertice escolhido\n",
    "    vizinho, vertice_deletado = pop_at(vizinho, indice_de_exclusao)\n",
    "    \n",
    "    # insere o vertice removido do caminho na array de vertices nao visitados\n",
    "    push!(copia_vertices_nao_visitados, vertice_deletado);\n",
    "    \n",
    "    # retorna vizinho, vertices nao visitados, tripla da tabela tabu\n",
    "    return vizinho, copia_vertices_nao_visitados, (direcao, vertice_deletado, 0)\n",
    "end"
   ]
  },
  {
   "cell_type": "code",
   "execution_count": null,
   "id": "0f8c8994",
   "metadata": {},
   "outputs": [],
   "source": []
  },
  {
   "cell_type": "code",
   "execution_count": 285,
   "id": "70b95520",
   "metadata": {},
   "outputs": [
    {
     "data": {
      "text/plain": [
       "get_custo (generic function with 1 method)"
      ]
     },
     "execution_count": 285,
     "metadata": {},
     "output_type": "execute_result"
    }
   ],
   "source": [
    "function get_custo(caminho)\n",
    "    custo = 0\n",
    "    for i in 1:length(caminho)-1\n",
    "        saida = caminho[i]\n",
    "        entrada = caminho[i+1]\n",
    "        custo += D[saida, entrada] - P[entrada]\n",
    "    end\n",
    "    saida = last(caminho)\n",
    "    entrada = 1\n",
    "    custo += D[saida, entrada] - P[entrada] \n",
    "end"
   ]
  },
  {
   "cell_type": "code",
   "execution_count": 398,
   "id": "ae732d87",
   "metadata": {},
   "outputs": [
    {
     "data": {
      "text/plain": [
       "([1, 6, 3, 7, 4], [2, 5, 8], (1, 6, 2))"
      ]
     },
     "execution_count": 398,
     "metadata": {},
     "output_type": "execute_result"
    }
   ],
   "source": [
    "solucao = [1, 3, 7, 4]\n",
    "vertices_nao_visitados = [2, 5, 6, 8]\n",
    "\n",
    "get_um_vizinho_a_direita(solucao, vertices_nao_visitados)"
   ]
  },
  {
   "cell_type": "code",
   "execution_count": 397,
   "id": "4095dfaf",
   "metadata": {},
   "outputs": [
    {
     "data": {
      "text/plain": [
       "([1, 7, 4], [2, 5, 6, 8, 3], (0, 3, 0))"
      ]
     },
     "execution_count": 397,
     "metadata": {},
     "output_type": "execute_result"
    }
   ],
   "source": [
    "solucao = [1, 3, 7, 4]\n",
    "vertices_nao_visitados = [2, 5, 6, 8]\n",
    "\n",
    "get_um_vizinho_a_esquerda(solucao, vertices_nao_visitados)"
   ]
  },
  {
   "cell_type": "code",
   "execution_count": 392,
   "id": "7d8d2d2b",
   "metadata": {},
   "outputs": [
    {
     "data": {
      "text/plain": [
       "5-element Array{Int64,1}:\n",
       " 2\n",
       " 5\n",
       " 6\n",
       " 8\n",
       " 3"
      ]
     },
     "execution_count": 392,
     "metadata": {},
     "output_type": "execute_result"
    }
   ],
   "source": [
    "vertices_nao_visitados"
   ]
  },
  {
   "cell_type": "code",
   "execution_count": 309,
   "id": "55d07e55",
   "metadata": {},
   "outputs": [
    {
     "data": {
      "text/plain": [
       "5-element Array{Any,1}:\n",
       " ([1, 3, 7, 2, 4], 221.0)\n",
       " ([1, 6, 3, 7, 4], 222.0)\n",
       " ([1, 3, 8, 7, 4], 199.0)\n",
       " ([1, 3, 2, 7, 4], 220.0)\n",
       " ([1, 3, 2, 7, 4], 220.0)"
      ]
     },
     "execution_count": 309,
     "metadata": {},
     "output_type": "execute_result"
    }
   ],
   "source": [
    "tupla_vizinho_custo"
   ]
  },
  {
   "cell_type": "code",
   "execution_count": null,
   "id": "5a8fc14a",
   "metadata": {},
   "outputs": [],
   "source": []
  },
  {
   "cell_type": "code",
   "execution_count": 157,
   "id": "ed6b7230",
   "metadata": {},
   "outputs": [
    {
     "data": {
      "text/plain": [
       "3"
      ]
     },
     "execution_count": 157,
     "metadata": {},
     "output_type": "execute_result"
    }
   ],
   "source": [
    "vertices_nao_visitados[rand(1:length(vertices_nao_visitados))]"
   ]
  },
  {
   "cell_type": "code",
   "execution_count": 143,
   "id": "b0a93507",
   "metadata": {},
   "outputs": [
    {
     "data": {
      "text/plain": [
       "4-element Array{Int64,1}:\n",
       " 2\n",
       " 5\n",
       " 6\n",
       " 8"
      ]
     },
     "execution_count": 143,
     "metadata": {},
     "output_type": "execute_result"
    }
   ],
   "source": [
    "vertice_nao_visitados"
   ]
  },
  {
   "cell_type": "code",
   "execution_count": 167,
   "id": "f319804c",
   "metadata": {},
   "outputs": [
    {
     "data": {
      "text/plain": [
       "6-element Array{Int64,1}:\n",
       " 6\n",
       " 5\n",
       " 4\n",
       " 9\n",
       " 2\n",
       " 1"
      ]
     },
     "execution_count": 167,
     "metadata": {},
     "output_type": "execute_result"
    }
   ],
   "source": [
    "insert!([6, 5, 4, 2, 1], 4, 9)"
   ]
  },
  {
   "cell_type": "code",
   "execution_count": 369,
   "id": "bbc33dac",
   "metadata": {},
   "outputs": [
    {
     "data": {
      "text/plain": [
       "4"
      ]
     },
     "execution_count": 369,
     "metadata": {},
     "output_type": "execute_result"
    }
   ],
   "source": [
    "A = [1, 2, 3, 4]\n",
    "a = pop!(A)"
   ]
  },
  {
   "cell_type": "code",
   "execution_count": 371,
   "id": "8a89a47d",
   "metadata": {},
   "outputs": [
    {
     "data": {
      "text/plain": [
       "pop_at (generic function with 1 method)"
      ]
     },
     "execution_count": 371,
     "metadata": {},
     "output_type": "execute_result"
    }
   ],
   "source": [
    "function pop_at(array, index)\n",
    "    valor = array[index]\n",
    "    deleteat!(array, index)\n",
    "    return array, valor\n",
    "end"
   ]
  },
  {
   "cell_type": "code",
   "execution_count": 373,
   "id": "d799d258",
   "metadata": {},
   "outputs": [
    {
     "data": {
      "text/plain": [
       "([1, 2, 4], 3)"
      ]
     },
     "execution_count": 373,
     "metadata": {},
     "output_type": "execute_result"
    }
   ],
   "source": [
    "A = [1, 2, 3, 4]\n",
    "pop_at(A, 3)"
   ]
  },
  {
   "cell_type": "code",
   "execution_count": 367,
   "id": "95963b17",
   "metadata": {},
   "outputs": [
    {
     "data": {
      "text/plain": [
       "3-element Array{Int64,1}:\n",
       " 1\n",
       " 3\n",
       " 4"
      ]
     },
     "execution_count": 367,
     "metadata": {},
     "output_type": "execute_result"
    }
   ],
   "source": [
    "A"
   ]
  },
  {
   "cell_type": "code",
   "execution_count": null,
   "id": "acfe4dde",
   "metadata": {},
   "outputs": [],
   "source": []
  }
 ],
 "metadata": {
  "kernelspec": {
   "display_name": "Julia 1.4.1",
   "language": "julia",
   "name": "julia-1.4"
  },
  "language_info": {
   "file_extension": ".jl",
   "mimetype": "application/julia",
   "name": "julia",
   "version": "1.4.1"
  }
 },
 "nbformat": 4,
 "nbformat_minor": 5
}
