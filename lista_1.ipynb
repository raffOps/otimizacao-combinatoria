{
 "cells": [
  {
   "cell_type": "code",
   "execution_count": 1,
   "metadata": {},
   "outputs": [],
   "source": [
    "using JuMP\n",
    "using GLPK\n",
    "using Formatting"
   ]
  },
  {
   "cell_type": "markdown",
   "metadata": {
    "id": "z_Ewf6sOqywN"
   },
   "source": [
    "## Questão 1 (Whisky)\n",
    "\n",
    "Um importador de Whisky tem as seguintes restrições de importação\n",
    "\n",
    "  * no máximo 2000 garrafas de Johnny Ballantine por 70 R$ cada uma\n",
    "\n",
    "  * no máximo 2500 garrafas de Old Gargantua por 50 R$ cada uma\n",
    "\n",
    "  * no máximo 1200 garrafas de Misty Deluxe por 40 R$ cada uma\n",
    "\n",
    "Dos Whiskies importados ele produz três misturas A, B, C, que ele vende por 68 R\\\\$, 57 R\\\\$ e 45 R\\\\$, respectivamente. As misturas são\n",
    "\n",
    "  * A: no mínimo 60% Johnny Ballantine, no máximo 20% Misty Deluxe\n",
    "  * B: no mínimo 15% Johnny Ballantine, no máximo 60% Misty Deluxe\n",
    "  * C: no máximo 50% Misty Deluxe.\n",
    "\n",
    "Quais seriam as misturas ótimas, e quantas garrafas de cada mistura devem ser produzidas para maximizar o lucro? Formule como programa linear.\n",
    "Observações:\n",
    "\n",
    "  * Use como variáveis o número de garrafas x(m,i) da marca m usadas na mistura i.\n",
    "  * Desconsidere a integralidade das garrafas.\n"
   ]
  },
  {
   "cell_type": "markdown",
   "metadata": {
    "id": "pIx8HuCotnOt"
   },
   "source": [
    "Variáveis:\n",
    "* $J$ = Quantidade de garrafas do tipo Johnny Ballantine\n",
    "* $M$ = Quantidade de garrafas do tipo Misty Deluxe\n",
    "* $O$ = Quantidade de garrafas do tipo Old Gargantua\n",
    "\n",
    "Maximiza: \n",
    "* $68A + 57B + 45C - 70J - 40M - 50O$\n",
    "\n",
    "Sujeito a:\n",
    "  * $J <= 2000$\n",
    "  * $O <= 2500$\n",
    "  * $M <= 1200$\n",
    "  * $(J, A) >= 0.6$\n",
    "  * $(J, B) >= 0.15$\n",
    "  * $X(M, A) <= 0.2$\n",
    "  * $X(M, B) <= 0.6$\n",
    "  * $X(M, C) <= 0.5$\n",
    "  * $X(J, A) + X(M, B) + X(O, C) = 1$\n",
    "  * $X(J, A) + X(M, B) + X(O, C) = 1$\n",
    "  * $X(J, A) + X(M, B) + X(O, C) = 1$"
   ]
  },
  {
   "cell_type": "markdown",
   "metadata": {
    "id": "5oSUsDca61Xg"
   },
   "source": [
    "## Questão 2 (Luvas de luxo)\n",
    "A empresa “Luvas de luxo” produz luvas para homens, mulheres e crianças e quer determinar o volume ideal da produção. Eles têm funcionários fixos que trabalham 40h por semana. Por lei, o número de funcionário fixos não pode ser menos que 20. Outros funcionários trabalham em tempo parcial. Nesse caso a empresa tem que respeitar:\n",
    "  * Os funcionários de tempo parcial trabalham 20h por semana \n",
    "  * para cada funcionário de tempo parcial a empresa tem que ter contratado ao menos dois funcionários fixos.\n",
    "\n",
    "Todas luvas são confeccionadas com couro, e “Luvas de luxo” recebe 5000m2 de couro por semana. A seguinte tabela mostra o lucro e a demanda de material para cada tipo de luva.\n",
    "\n",
    "| Luvas    | Quantidade (m^2) | Trabalho (min) | Lucro (R$) |\n",
    "|----------|------------------|----------------|------------|\n",
    "| Homens   | 2                | 30             | 8          |\n",
    "| Mulheres | 1.5              | 45             | 10         |\n",
    "| Criancas | 1                | 40             | 6          | [texto do link](https://)\n",
    "\n",
    "Cada funcionário fixo recebe 13 R$ por hora, cada funcionário  que trabalha parcialmente recebe 10 RS por hora. Como a empresa pode maximizar o lucro líquido dela, i.e. o lucro das vendas menos os gastos com os funcionários?"
   ]
  },
  {
   "cell_type": "markdown",
   "metadata": {
    "id": "NPwXY_mY8tPt"
   },
   "source": [
    "Variáveis:\n",
    "  \n",
    "  * $T_{1}$ = Quantidade trabalhadores fixos\n",
    "  * $T_{2}$ = Quantidade de trabalhadores parciais\n",
    "  * $M$ = Quantidade de luvas masculinas produzidas\n",
    "  * $F$ = Quantidade de luvas femininas produzidas\n",
    "  * $I$ = Quantidade de luvas infantis produzidas\n",
    "\n",
    "\n",
    "\n",
    "Maximiza:\n",
    "  * $8M + 10F + 6I - 13T_{1} - 10T_{2}$\n",
    "\n",
    "Sujeito a:\n",
    "  * $T_{1} - 2T_{2} >= 0$\n",
    "  * $2M + 1.5F + 1I <= 5000$\n",
    "  * $40T_{1} + 20T_{2} - 0.5M - 0.75F - 0.66I >= 0$\n",
    "\n"
   ]
  },
  {
   "cell_type": "code",
   "execution_count": 23,
   "metadata": {},
   "outputs": [],
   "source": [
    "model_luvas =  Model(GLPK.Optimizer);"
   ]
  },
  {
   "cell_type": "code",
   "execution_count": 24,
   "metadata": {},
   "outputs": [],
   "source": [
    "@variable(model_luvas, m>=0)\n",
    "@variable(model_luvas, f>=0)\n",
    "@variable(model_luvas, i>=0)\n",
    "@variable(model_luvas, t1>=0)\n",
    "@variable(model_luvas, t2>=0);"
   ]
  },
  {
   "cell_type": "code",
   "execution_count": 25,
   "metadata": {},
   "outputs": [],
   "source": [
    "@constraint(model_luvas, t1 - 2t2 >= 0)\n",
    "@constraint(model_luvas, 2m + 1.5f + i <= 5000)\n",
    "@constraint(model_luvas, 40t1 + 20t2 - 0.5m - 0.75f - 0.66i >=0);"
   ]
  },
  {
   "cell_type": "code",
   "execution_count": 26,
   "metadata": {},
   "outputs": [],
   "source": [
    "@objective(model_luvas, Max, 8m + 10f + 6i - 13t1 - 10t2);"
   ]
  },
  {
   "cell_type": "code",
   "execution_count": 29,
   "metadata": {},
   "outputs": [
    {
     "name": "stdout",
     "output_type": "stream",
     "text": [
      "model_luvas = A JuMP Model\n",
      "Maximization problem with:\n",
      "Variables: 5\n",
      "Objective function type: GenericAffExpr{Float64,VariableRef}\n",
      "`GenericAffExpr{Float64,VariableRef}`-in-`MathOptInterface.GreaterThan{Float64}`: 2 constraints\n",
      "`GenericAffExpr{Float64,VariableRef}`-in-`MathOptInterface.LessThan{Float64}`: 1 constraint\n",
      "`VariableRef`-in-`MathOptInterface.GreaterThan{Float64}`: 5 constraints\n",
      "Model mode: AUTOMATIC\n",
      "CachingOptimizer state: ATTACHED_OPTIMIZER\n",
      "Solver name: GLPK\n",
      "Names registered in the model: f, i, m, t1, t2\n"
     ]
    },
    {
     "data": {
      "text/latex": [
       "$$ \\begin{alignat*}{1}\\max\\quad & 8 m + 10 f + 6 i - 13 t1 - 10 t2\\\\\n",
       "\\text{Subject to} \\quad & t1 - 2 t2 \\geq 0.0\\\\\n",
       " & -0.5 m - 0.75 f - 0.66 i + 40 t1 + 20 t2 \\geq 0.0\\\\\n",
       " & 2 m + 1.5 f + i \\leq 5000.0\\\\\n",
       " & m \\geq 0.0\\\\\n",
       " & f \\geq 0.0\\\\\n",
       " & i \\geq 0.0\\\\\n",
       " & t1 \\geq 0.0\\\\\n",
       " & t2 \\geq 0.0\\\\\n",
       "\\end{alignat*}\n",
       " $$"
      ],
      "text/plain": [
       "A JuMP Model\n",
       "Maximization problem with:\n",
       "Variables: 5\n",
       "Objective function type: GenericAffExpr{Float64,VariableRef}\n",
       "`GenericAffExpr{Float64,VariableRef}`-in-`MathOptInterface.GreaterThan{Float64}`: 2 constraints\n",
       "`GenericAffExpr{Float64,VariableRef}`-in-`MathOptInterface.LessThan{Float64}`: 1 constraint\n",
       "`VariableRef`-in-`MathOptInterface.GreaterThan{Float64}`: 5 constraints\n",
       "Model mode: AUTOMATIC\n",
       "CachingOptimizer state: ATTACHED_OPTIMIZER\n",
       "Solver name: GLPK\n",
       "Names registered in the model: f, i, m, t1, t2"
      ]
     },
     "execution_count": 29,
     "metadata": {},
     "output_type": "execute_result"
    }
   ],
   "source": [
    "@show model_luvas"
   ]
  },
  {
   "cell_type": "code",
   "execution_count": 27,
   "metadata": {},
   "outputs": [],
   "source": [
    "optimize!(model_luvas)"
   ]
  },
  {
   "cell_type": "code",
   "execution_count": 30,
   "metadata": {},
   "outputs": [
    {
     "data": {
      "text/plain": [
       "OPTIMAL::TerminationStatusCode = 1"
      ]
     },
     "execution_count": 30,
     "metadata": {},
     "output_type": "execute_result"
    }
   ],
   "source": [
    "termination_status(model_luvas)"
   ]
  },
  {
   "cell_type": "code",
   "execution_count": 35,
   "metadata": {},
   "outputs": [
    {
     "name": "stdout",
     "output_type": "stream",
     "text": [
      "value(m) = 0.0\n",
      "value(f) = 3333.3333333333335\n",
      "value(i) = 0.0\n",
      "value(t1) = 62.5\n",
      "value(t2) = 0.0\n"
     ]
    }
   ],
   "source": [
    "@show value(m)\n",
    "@show value(f)\n",
    "@show value(i)\n",
    "@show value(t1)\n",
    "@show value(t2);"
   ]
  },
  {
   "cell_type": "code",
   "execution_count": 36,
   "metadata": {},
   "outputs": [
    {
     "name": "stdout",
     "output_type": "stream",
     "text": [
      "objective_value(model_luvas) = 32520.833333333336\n"
     ]
    },
    {
     "data": {
      "text/plain": [
       "32520.833333333336"
      ]
     },
     "execution_count": 36,
     "metadata": {},
     "output_type": "execute_result"
    }
   ],
   "source": [
    "@show objective_value(model_luvas)"
   ]
  },
  {
   "cell_type": "markdown",
   "metadata": {
    "id": "cmWiEjidi3uL"
   },
   "source": [
    "## Questão 3 (Produção de metais)\n",
    "\n",
    "A empresa “Metallica” quer produzir uma nova liga metálica com 40% de estanho,\n",
    "35% de zinco, e 25% de chumbo. Ela tem cinco ligas disponíveis com as seguintes\n",
    "características:\n",
    "\n",
    "|               | 1  | 2  | 3  | 4  | 5  |\n",
    "|---------------|----|----|----|----|----|\n",
    "| Estanho [%]   | 60 | 25 | 45 | 20 | 50 |\n",
    "| Zinco [%]     | 10 | 15 | 45 | 50 | 40 |\n",
    "| Chumbo [%]    | 30 | 60 | 10 | 30 | 10 |\n",
    "| Custo [RS/kg] | 22 | 20 | 25 | 24 | 27 |\n",
    "\n",
    "A empresa quer saber em quais proporções os cinco ligas devem ser misturadas para **produzir** a nova liga de menor custo.\n",
    "\n",
    "\n",
    "\n",
    "\n"
   ]
  },
  {
   "cell_type": "markdown",
   "metadata": {
    "id": "u0XBCEyvnMTX"
   },
   "source": [
    "Variáveis:\n",
    " * $L_{i}$ = Quantidade em Kg da liga i, com i indo de 1 até 5\n",
    " * $C_{i}$ = Custo em reais de cada liga liga i, com i indo de 1 até 5\n",
    " * $E_{i}$ = Proporções de estanho em cada liga i, com i indo de 1 até 5\n",
    " * $Z_{i}$ = Proporções de zinco em cada liga i, com i indo de 1 até 5\n",
    " * $P_{i}$ = Proporções de chumbo em cada liga i, com i indo de 1 até 5\n",
    " \n",
    "\n",
    "Minimiza:\n",
    "  * $ \\sum \\limits _{i=1} ^{5} C_{i}L_{i} $\n",
    "\n",
    "Sujeito:\n",
    "  * $ \\sum \\limits_{i=1} ^{5} E_{i}L_{i} = 40 $\n",
    "  * $ \\sum \\limits_{i=1} ^{5} Z_{i}L_{i} = 35 $\n",
    "  * $ \\sum \\limits_{i=1} ^{5} P_{i}L_{i} = 25 $\n",
    "  "
   ]
  },
  {
   "cell_type": "code",
   "execution_count": 58,
   "metadata": {},
   "outputs": [],
   "source": [
    "model_liga = Model(GLPK.Optimizer);"
   ]
  },
  {
   "cell_type": "code",
   "execution_count": 59,
   "metadata": {},
   "outputs": [],
   "source": [
    "e = [60, 25, 45, 20, 50]\n",
    "z = [10, 15, 45, 50, 40]\n",
    "p = [30, 60, 10, 30, 10]\n",
    "c = [22, 20, 25, 24, 27];"
   ]
  },
  {
   "cell_type": "code",
   "execution_count": 60,
   "metadata": {},
   "outputs": [],
   "source": [
    "@variable(model_liga, l[1:5] >= 0)\n",
    "@constraints(model_liga, begin\n",
    "        sum(e.*l) == 40\n",
    "        sum(z.*l) == 35\n",
    "        sum(p.*l) == 25\n",
    "    end)        "
   ]
  },
  {
   "cell_type": "code",
   "execution_count": 61,
   "metadata": {},
   "outputs": [],
   "source": [
    "@objective(model_liga, Min, sum(c.*l));"
   ]
  },
  {
   "cell_type": "code",
   "execution_count": 62,
   "metadata": {},
   "outputs": [],
   "source": [
    "status = optimize!(model_liga)"
   ]
  },
  {
   "cell_type": "code",
   "execution_count": 63,
   "metadata": {},
   "outputs": [
    {
     "name": "stdout",
     "output_type": "stream",
     "text": [
      "Frações ótimas: [0.043478260869564994, 0.282608695652174, 0.6739130434782611, 0.0, 0.0]\n",
      "Custo ótimo por kg: 23.456521739130437\n"
     ]
    }
   ],
   "source": [
    "println(\"Frações ótimas: $(map(i->value(l[i]),1:5))\")\n",
    "println(\"Custo ótimo por kg: $(objective_value(model_liga))\")"
   ]
  },
  {
   "cell_type": "code",
   "execution_count": 65,
   "metadata": {},
   "outputs": [
    {
     "name": "stdout",
     "output_type": "stream",
     "text": [
      "Frações ótimas: [0.043478260869564994, 0.282608695652174, 0.6739130434782611, 0.0, 0.0]\n",
      "Custo ótimo por kg: 23.456521739130437\n"
     ]
    }
   ],
   "source": [
    "e = [60, 25, 45, 20, 50]\n",
    "z = [10, 15, 45, 50, 40]\n",
    "c = [30, 60, 10, 30, 10]\n",
    "C = [22, 20, 25, 24, 27];\n",
    "m = Model()\n",
    "@variable(m, x[1:5] >= 0)\n",
    "@objective(m, Min, sum(C[i]*x[i] for i in 1:5))\n",
    "@constraints(m, begin\n",
    "sum(e[i]*x[i] for i in 1:5) == 40\n",
    "sum(z[i]*x[i] for i in 1:5) == 35\n",
    "sum(c[i]*x[i] for i in 1:5) == 25\n",
    "end)\n",
    "set_optimizer(m, GLPK.Optimizer)\n",
    "status=optimize!(m)\n",
    "println(\"Frações ótimas: $(map(i->value(x[i]),1:5))\")\n",
    "println(\"Custo ótimo por kg: $(objective_value(m))\")"
   ]
  },
  {
   "cell_type": "markdown",
   "metadata": {
    "id": "8q83zJ9_rWT5"
   },
   "source": [
    "# Questão 4 (Refinar óleo da Costa)\n",
    "Um certo óleo é refinado a partir da mistura de outros óleos, vegetais ou não vegetais.\n",
    "Temos óleos vegetais V1 e V2 e óleos não vegetais NV1 NV2 NV3. Por restrições da\n",
    "fábrica, um máximo de 200 toneladas de óleos vegetais podem ser refinados por mês,\n",
    "e um máximo de 250 toneladas de óleos não vegetais. A acidez do óleo desejado deve\n",
    "estar entre 3 e 6 (dada uma unidade de medida) e a acidez depende linearmente das\n",
    "quantidades/acidez dos óleos brutos usados. O preço de venda de uma tonelada do óleo\n",
    "é R$ 150. Calcule a mistura que maximiza o lucro, dado que:\n",
    "\n",
    "| Óleo      | V1  | V2  | NV1 | NV2 | NV3 |\n",
    "|-----------|-----|-----|-----|-----|-----|\n",
    "| Custo/ton | 110 | 120 | 130 | 110 | 115 |\n",
    "| Acidez    | 8.8 | 6.1 | 2.0 | 4.2 | 5.0 |\n"
   ]
  },
  {
   "cell_type": "markdown",
   "metadata": {
    "id": "ZC70DyL4s0uH"
   },
   "source": [
    "Variáveis dependentes:\n",
    "  * $ T_{i}$ = Quantidade em toneladas de cada óleo i, com i indo de 1 até 5 \n",
    "  \n",
    "Variáveis independentes:\n",
    "\n",
    "  * $ C_{i}$ = Custo por tonelada de cada óleo i, com i indo de 1 até 5 \n",
    "\n",
    "  * $ A_{i}$ = Acidez cada óleo i, com i indo de 1 até 5 \n",
    "\n",
    "\n",
    "Maximiza:\n",
    "  * $\\sum \\limits_{i=1} ^{5} 150T_{i} -\\sum \\limits_{i=1} ^{5} C_{i}T_{i} $\n",
    "\n",
    "Sujeito a:\n",
    "  * $\\sum \\limits_{i=1} ^{2} T_{i} <= 200 $\n",
    "  * $\\sum \\limits_{i=3} ^{5} T_{i} <= 250 $\n",
    "  * $\\sum \\limits_{i=1} ^{5} (A_{i} * T_{i}) <= 6*\\sum \\limits_{i=1} ^{5}T_{i} $\n",
    "  * $\\sum \\limits_{i=1} ^{5} (A_{i} * T_{i}) >= 3*\\sum \\limits_{i=1} ^{5}T_{i} $"
   ]
  },
  {
   "cell_type": "code",
   "execution_count": 80,
   "metadata": {},
   "outputs": [],
   "source": [
    "model_oleo = Model(GLPK.Optimizer);"
   ]
  },
  {
   "cell_type": "code",
   "execution_count": 81,
   "metadata": {},
   "outputs": [],
   "source": [
    "c = [110, 120, 130, 110, 115]\n",
    "a = [8.8, 6.1, 2, 4.2, 5];"
   ]
  },
  {
   "cell_type": "code",
   "execution_count": 82,
   "metadata": {},
   "outputs": [],
   "source": [
    "@variable(model_oleo, t[1:5] >= 0)\n",
    "@constraints(model_oleo, begin\n",
    "                    sum(t[i] for i in 1:2) <= 200\n",
    "                    sum(t[i] for i in 3:5) <= 250\n",
    "                    sum(a[i] * t[i] for i in 1:5) <= 6 * sum(t)\n",
    "                    sum(a[i] * t[i] for i in 1:5) >= 3 * sum(t)\n",
    "    end)\n",
    "\n",
    "@objective(model_oleo, Max, 150*sum(t) - sum(c.*t));"
   ]
  },
  {
   "cell_type": "code",
   "execution_count": 83,
   "metadata": {},
   "outputs": [],
   "source": [
    "status = optimize!(model_oleo)"
   ]
  },
  {
   "cell_type": "code",
   "execution_count": 87,
   "metadata": {},
   "outputs": [
    {
     "data": {
      "text/plain": [
       "450.0"
      ]
     },
     "execution_count": 87,
     "metadata": {},
     "output_type": "execute_result"
    }
   ],
   "source": [
    "value(sum(t))"
   ]
  },
  {
   "cell_type": "code",
   "execution_count": 91,
   "metadata": {},
   "outputs": [
    {
     "name": "stdout",
     "output_type": "stream",
     "text": [
      "mistura ótima: [159.2592592592592, 40.74074074074082, 0.0, 250.0, 0.0]\n",
      "producao otima: 450.0\n"
     ]
    }
   ],
   "source": [
    "println(\"mistura ótima: $(map(i->value(t[i]),1:5))\")\n",
    "println(\"producao otima: $(value(sum(t)))\")"
   ]
  },
  {
   "cell_type": "markdown",
   "metadata": {
    "id": "xewifGbdrW1o"
   },
   "source": [
    "# Questão 5 (Formulação)\n",
    "Um pipeline transporta óleo de uma estação A para uma estação B. Existe uma rota norte\n",
    "e uma rota sul, ambas com uma estação intermediária. Ainda existe uma pipeline da\n",
    "estação intermediária sul para estação intermediária norte. A figura 1 mostra a situação\n",
    "junto com as capacidades dos pipelines em barris por dia. Formula um programa linear\n",
    "que maximiza os barris por dia transportadas de A para B."
   ]
  },
  {
   "cell_type": "markdown",
   "metadata": {},
   "source": [
    "Variáveis:\n",
    "  * $AN$ = Quantidade de barris transportando entre A e Norte\n",
    "  * $AS$ = Quantidade de barris transportando entre A e Sul\n",
    "  * $SN$ = Quantidade de barris transportando entre Sul e Norte\n",
    "  * $NB$ = Quantidade de barris transportando entre Norte e B\n",
    "  * $SB$ = Quantidade de barris transportando entre Sul e B\n",
    "  \n",
    "Maximiza:\n",
    "  * $AN + AS$\n",
    "\n",
    "Sujeito a:\n",
    "  * $AN + SN = NB$\n",
    "  * $AS = SN + SB$\n",
    "  * $AN <= 300$\n",
    "  * $AS <= 500$ \n",
    "  * $SN <= 300$\n",
    "  * $NB <= 400$\n",
    "  * $SB <= 300$"
   ]
  },
  {
   "cell_type": "code",
   "execution_count": 106,
   "metadata": {},
   "outputs": [],
   "source": [
    "model_oleo2 = Model(GLPK.Optimizer)\n",
    "\n",
    "@variables(model_oleo2, begin\n",
    "        an >= 0\n",
    "        as >= 0\n",
    "        sn >= 0\n",
    "        nb >= 0\n",
    "        sb >= 0\n",
    "    end)"
   ]
  },
  {
   "cell_type": "code",
   "execution_count": 107,
   "metadata": {},
   "outputs": [],
   "source": [
    "@constraints(model_oleo2, begin\n",
    "        an + sn == nb\n",
    "        as == sn + sb\n",
    "        an <= 300\n",
    "        as <= 500\n",
    "        sn <= 300\n",
    "        nb <= 400\n",
    "        sb <= 300\n",
    "    end)"
   ]
  },
  {
   "cell_type": "code",
   "execution_count": 108,
   "metadata": {},
   "outputs": [],
   "source": [
    "@objective(model_oleo2, Max, an+as);"
   ]
  },
  {
   "cell_type": "code",
   "execution_count": 110,
   "metadata": {},
   "outputs": [
    {
     "name": "stdout",
     "output_type": "stream",
     "text": [
      "O valor otimo  700.0.\n",
      "Transporte de A para Norte : 300.0\n",
      "Transporte de A para Sul : 400.0\n",
      "Transporte de Sul para Norte: 100.0\n",
      "Transporte de Norte para B : 400.0\n",
      "Transporte de Sul para B : 300.0\n"
     ]
    }
   ],
   "source": [
    "status=optimize!(model_oleo2)\n",
    "println(\"O valor otimo  $(objective_value(model_oleo2)).\")\n",
    "println(\"Transporte de A para Norte : $(value(an))\")\n",
    "println(\"Transporte de A para Sul : $(value(as))\")\n",
    "println(\"Transporte de Sul para Norte: $(value(sn))\")\n",
    "println(\"Transporte de Norte para B : $(value(nb))\")\n",
    "println(\"Transporte de Sul para B : $(value(sb))\")"
   ]
  },
  {
   "cell_type": "code",
   "execution_count": null,
   "metadata": {},
   "outputs": [],
   "source": []
  }
 ],
 "metadata": {
  "colab": {
   "name": "lista_1",
   "provenance": []
  },
  "kernelspec": {
   "display_name": "Julia 1.4.1",
   "language": "julia",
   "name": "julia-1.4"
  },
  "language_info": {
   "file_extension": ".jl",
   "mimetype": "application/julia",
   "name": "julia",
   "version": "1.4.1"
  }
 },
 "nbformat": 4,
 "nbformat_minor": 1
}
