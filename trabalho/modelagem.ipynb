{
 "cells": [
  {
   "cell_type": "markdown",
   "id": "770e365f",
   "metadata": {},
   "source": [
    "# Rota mais valiosa\n",
    "Instância Um grafo completo G = (V, A) com distâncias da, a ∈ A, entre os vértices, prêmios pv,\n",
    "v ∈ V , nos vértices e um vértice de origem vo ∈ V .\n",
    "Solução Uma rota R = (vo, v1, v2, . . . , vk, vo) inciando e terminando em vo com vértices intermediários vi ∈ V . Cada vértice em V \\ {vo} pode ser contido no máximo um vez em R.\n",
    "Objetivo Minimizar o valor total v(R) = dvo,v1 +\n",
    "∑\n",
    "i∈[k−1] dvi,vi+1 + dvk,vo −\n",
    "∑\n",
    "i∈[k]\n",
    "pvi da rota.\n",
    "\n",
    "## Variáveis\n",
    "- D -> Matriz de adjacência com o peso de cada aresta \n",
    "- A -> Matriz de adjacência com a booleano informando se a aresta pertence ou não a solução\n",
    "- P -> Lista com o peso (prêmio) de cada vértice\n",
    "- V -> Lista com a booleano informando se o vértice foi visitado ou não\n",
    "\n",
    "## Modelagem\n",
    "Minimizar \n",
    "    $\\sum_{i=0}^{V-1}\\sum_{j=0}^{V-1} D_{(i,j)} * A_{(i,j)} - \\sum_{i=0}^{V-1} P_{(i)} * V_{(i)}$\n",
    "\n",
    "\n",
    "Sujeito:\n",
    "    \n",
    " - A aresta i,j pode (1) ou não (0) estar contido na solução: \n",
    "     \n",
    "     $A_{(i,j)} \\in \\{0,1\\}$ \n",
    " \n",
    " \n",
    " - O vértica i pode (1) ou não (0) estar contido em algumas das arestas da solução:\n",
    "     \n",
    "     $V_{(i)} \\in \\{0,1\\}$ \n",
    " \n",
    " \n",
    " - A aresta que sai do vértice 0, que é vértice de partida, deve obrigatoriamente estar contido na solução\n",
    "     \n",
    "     $\\sum_{j=1}^{V} A_{(0,j)} = 1$\n",
    " \n",
    " \n",
    " - A aresta que chega no vértice 0, que é vértice de destino, deve obrigatoriamente estar contido na solução\n",
    "     \n",
    "     $\\sum_{i=1}^{V} A_{(i,1)} = 1$\n",
    " \n",
    " \n",
    " - Vinculação dos vértice visitados com os prêmios destes.\n",
    "     \n",
    "     $\\sum_{j=1}^{V} A_{(i,j)} = V_{i},\\ \\forall_{i} \\in \\{1,..,V\\}$\n",
    " \n",
    " \n",
    " - Um vértice não pode estar contido como destino em mais de 1 aresta da solução\n",
    "     \n",
    "     $\\sum_{i=1}^{V-1} A_{(i,j)} <= 1,\\ \\forall_{j} \\in \\{1,..,V\\}$\n",
    " \n",
    " \n",
    " - Um vértice não pode estar contido como partida em mais de 1 aresta da solução\n",
    "     \n",
    "     $\\sum_{j=1}^{V} A_{(i,j)} <= 1,\\ \\forall_{i} \\in \\{1,..,V\\}$\n",
    "     \n",
    "     \n",
    " - Um aresta não pode conter o mesmo vértice como partida e destino\n",
    "     \n",
    "     $Diagonal(A) <> Matriz\\ identidade$\n",
    " \n",
    " \n",
    " - Se um vértice está contido como partida em alguma aresta da solução, ele obrigatoriamente deve estar contido como destino em alguma aresta da solução \n",
    "     \n",
    "     $\\sum_{i=1}^{V} A_{(i,j)} = \\sum_{i=1}^{V} A_{(j, i)}\\ \\forall_{j} \\in \\{1,..,V\\} $\n",
    "\n",
    "## Código"
   ]
  },
  {
   "cell_type": "code",
   "execution_count": 1,
   "id": "53449882",
   "metadata": {},
   "outputs": [],
   "source": [
    "using NBInclude\n",
    "using GLPK\n",
    "using JuMP\n",
    "@nbinclude(\"parser.ipynb\")"
   ]
  },
  {
   "cell_type": "code",
   "execution_count": 2,
   "id": "fa8f74ef",
   "metadata": {},
   "outputs": [
    {
     "data": {
      "text/plain": [
       "get_diagonal (generic function with 1 method)"
      ]
     },
     "execution_count": 2,
     "metadata": {},
     "output_type": "execute_result"
    }
   ],
   "source": [
    "function get_diagonal(matrix)\n",
    "    diagonal = []\n",
    "    cardinalidade = size(matrix)[1]\n",
    "    for i in 1:cardinalidade\n",
    "        push!(diagonal, matrix[i, i])\n",
    "    end\n",
    "    return diagonal\n",
    "end"
   ]
  },
  {
   "cell_type": "code",
   "execution_count": 22,
   "id": "574ad4f9",
   "metadata": {},
   "outputs": [],
   "source": [
    "file = \"instancias/A-n32-k5.vrp\"\n",
    "v, P = parse_file(file)\n",
    "D = get_distancias(v)\n",
    "cardinalidade = length(P);"
   ]
  },
  {
   "cell_type": "code",
   "execution_count": 23,
   "id": "22115f2b",
   "metadata": {},
   "outputs": [],
   "source": [
    "# m = Model(GLPK.Optimizer)\n",
    "\n",
    "# @variable(m, A[1:5, 1:5], Bin)\n",
    "# @variable(m, V[1:5], Bin);\n",
    "\n",
    "# @objective(m, Min, sum(D[1:5, 1:5] .* A[:5,:5]) - sum(P[1:5] .* V[1:5]));"
   ]
  },
  {
   "cell_type": "code",
   "execution_count": 24,
   "id": "bcad6542",
   "metadata": {},
   "outputs": [],
   "source": [
    "m = Model(GLPK.Optimizer)\n",
    "\n",
    "@variable(m, A[1:cardinalidade, 1:cardinalidade], Bin)\n",
    "@variable(m, V[1:cardinalidade], Bin);\n",
    "\n",
    "@objective(m, Min, sum(D .* A) - sum(P .* V));"
   ]
  },
  {
   "cell_type": "code",
   "execution_count": 26,
   "id": "43904c6d",
   "metadata": {},
   "outputs": [],
   "source": [
    "@constraints(m, begin\n",
    "    sum(A[1, :])               == 1\n",
    "    sum(A[:, 1])               == 1\n",
    "    transpose(sum(A, dims=1)) .== V\n",
    "    sum(A, dims=2)            .<= ones(cardinalidade)\n",
    "    sum(A, dims=1)            .<= ones((1, cardinalidade))\n",
    "    get_diagonal(A)           .== zeros(cardinalidade)\n",
    "    transpose(sum(A, dims=1)) .- sum(A, dims=2) .== zeros(cardinalidade)\n",
    "    end\n",
    ")"
   ]
  },
  {
   "cell_type": "code",
   "execution_count": 27,
   "id": "c5d1c40a",
   "metadata": {},
   "outputs": [],
   "source": [
    "optimize!(m)"
   ]
  },
  {
   "cell_type": "code",
   "execution_count": 28,
   "id": "91775f01",
   "metadata": {},
   "outputs": [
    {
     "name": "stdout",
     "output_type": "stream",
     "text": [
      "objective_value(m) = -133.0\n"
     ]
    },
    {
     "data": {
      "text/plain": [
       "-133.0"
      ]
     },
     "execution_count": 28,
     "metadata": {},
     "output_type": "execute_result"
    }
   ],
   "source": [
    "@show objective_value(m)"
   ]
  },
  {
   "cell_type": "code",
   "execution_count": 31,
   "id": "1e75e83f",
   "metadata": {},
   "outputs": [
    {
     "data": {
      "text/plain": [
       "true"
      ]
     },
     "execution_count": 31,
     "metadata": {},
     "output_type": "execute_result"
    }
   ],
   "source": [
    "maximum(sum(JuMP.value.(A), dims=2) .== transpose(sum(JuMP.value.(A), dims=1)))"
   ]
  },
  {
   "cell_type": "code",
   "execution_count": 32,
   "id": "78d1813b",
   "metadata": {},
   "outputs": [
    {
     "name": "stdout",
     "output_type": "stream",
     "text": [
      "1 31\n",
      "2 13\n",
      "3 4\n",
      "4 3\n",
      "5 12\n",
      "6 1\n",
      "7 1\n",
      "8 14\n",
      "9 1\n",
      "10 23\n",
      "11 1\n",
      "12 5\n",
      "13 17\n",
      "14 8\n",
      "15 1\n",
      "16 1\n",
      "17 2\n",
      "18 20\n",
      "19 1\n",
      "20 18\n",
      "21 1\n",
      "22 32\n",
      "23 10\n",
      "24 1\n",
      "25 28\n",
      "26 1\n",
      "27 1\n",
      "28 25\n",
      "29 1\n",
      "30 1\n",
      "31 1\n",
      "32 22\n"
     ]
    }
   ],
   "source": [
    "for i in 1:32\n",
    "    println(i,\" \", argmax(JuMP.value.(A)[i,:]))\n",
    "end"
   ]
  },
  {
   "cell_type": "code",
   "execution_count": null,
   "id": "94d560fd",
   "metadata": {},
   "outputs": [],
   "source": [
    "JuMP.value.(A)[7,1]"
   ]
  },
  {
   "cell_type": "code",
   "execution_count": null,
   "id": "c1fe3ed5",
   "metadata": {},
   "outputs": [],
   "source": [
    "@show value(P[1])"
   ]
  },
  {
   "cell_type": "code",
   "execution_count": null,
   "id": "4d35d7c9",
   "metadata": {},
   "outputs": [],
   "source": [
    "@show value(P[31])"
   ]
  },
  {
   "cell_type": "code",
   "execution_count": null,
   "id": "ced78929",
   "metadata": {},
   "outputs": [],
   "source": [
    "@show value(P[27])"
   ]
  },
  {
   "cell_type": "code",
   "execution_count": null,
   "id": "931fb6cb",
   "metadata": {},
   "outputs": [],
   "source": [
    "@show value(D[1, 27])"
   ]
  },
  {
   "cell_type": "code",
   "execution_count": null,
   "id": "42105c9b",
   "metadata": {},
   "outputs": [],
   "source": [
    "@show value(D[27, 31])"
   ]
  },
  {
   "cell_type": "code",
   "execution_count": null,
   "id": "c0b948af",
   "metadata": {},
   "outputs": [],
   "source": [
    "@show value(D[1, 31])"
   ]
  }
 ],
 "metadata": {
  "kernelspec": {
   "display_name": "Julia 1.4.1",
   "language": "julia",
   "name": "julia-1.4"
  },
  "language_info": {
   "file_extension": ".jl",
   "mimetype": "application/julia",
   "name": "julia",
   "version": "1.4.1"
  }
 },
 "nbformat": 4,
 "nbformat_minor": 5
}
