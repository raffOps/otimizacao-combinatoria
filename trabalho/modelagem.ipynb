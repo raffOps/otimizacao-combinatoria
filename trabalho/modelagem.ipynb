{
 "cells": [
  {
   "cell_type": "code",
   "execution_count": 24,
   "id": "04555bb0",
   "metadata": {},
   "outputs": [],
   "source": [
    "using NBInclude\n",
    "using GLPK\n",
    "using JuMP\n",
    "@nbinclude(\"parser.ipynb\")"
   ]
  },
  {
   "cell_type": "markdown",
   "id": "770e365f",
   "metadata": {},
   "source": [
    "# Rota mais valiosa\n",
    "Instância Um grafo completo G = (V, A) com distâncias da, a ∈ A, entre os vértices, prêmios pv,\n",
    "v ∈ V , nos vértices e um vértice de origem vo ∈ V .\n",
    "Solução Uma rota R = (vo, v1, v2, . . . , vk, vo) inciando e terminando em vo com vértices intermediários vi ∈ V . Cada vértice em V \\ {vo} pode ser contido no máximo um vez em R.\n",
    "Objetivo Minimizar o valor total v(R) = dvo,v1 +\n",
    "∑\n",
    "i∈[k−1] dvi,vi+1 + dvk,vo −\n",
    "∑\n",
    "i∈[k]\n",
    "pvi da rota."
   ]
  },
  {
   "cell_type": "markdown",
   "id": "4c52dc17",
   "metadata": {},
   "source": [
    "## Variáveis\n",
    "- D -> Matriz de adjacência com o peso de cada aresta \n",
    "- A -> Matriz de adjacência com a booleano informando se a aresta pertence ou não a solução\n",
    "- P -> Lista com o peso (prêmio) de cada vértice\n",
    "- V -> Lista com a booleano informando se o vértice foi visitado ou não"
   ]
  },
  {
   "cell_type": "markdown",
   "id": "c01cc044",
   "metadata": {},
   "source": [
    "## Modelagem\n",
    "Minimizar \n",
    "    $\\sum_{i=0}^{V-1}\\sum_{j=0}^{V-1} D_{(i,j)} * A_{(i,j)} - \\sum_{i=0}^{V-1} P_{(i)} * V_{(i)}$\n",
    "\n",
    "\n",
    "Sujeito:\n",
    "    \n",
    " - A aresta i,j pode (1) ou não (0) estar contido na solução: \n",
    "     \n",
    "     $A_{(i,j)} \\in \\{0,1\\}$ \n",
    " \n",
    " \n",
    " - O vértica i pode (1) ou não (0) estar contido em algumas das arestas da solução:\n",
    "     \n",
    "     $V_{(i)} \\in \\{0,1\\}$ \n",
    " \n",
    " \n",
    " - A aresta que sai do vértice 0, que é vértice de partida, deve obrigatoriamente estar contido na solução\n",
    "     \n",
    "     $\\sum_{j=1}^{V} A_{(0,j)} = 1$\n",
    " \n",
    " \n",
    " - A aresta que chega no vértice 0, que é vértice de destino, deve obrigatoriamente estar contido na solução\n",
    "     \n",
    "     $\\sum_{i=1}^{V} A_{(i,1)} = 1$\n",
    " \n",
    " \n",
    " - Vinculação dos vértice visitados com os prêmios destes.\n",
    "     \n",
    "     $\\sum_{j=1}^{V} A_{(i,j)} = V_{i}, \\forall_{i} \\in \\{1,..,V\\}$\n",
    " \n",
    " \n",
    " - Um vértice não pode estar contido como destino em mais de 1 aresta da solução\n",
    "     \n",
    "     $\\sum_{i=1}^{V-1} A_{(i,j)} <= 1, \\forall_{j} \\in \\{1,..,V\\}$\n",
    " \n",
    " \n",
    " - Um vértice não pode estar contido como partida em mais de 1 aresta da solução\n",
    "     \n",
    "     $\\sum_{j=1}^{V} A_{(i,j)} <= 1, \\forall_{i} \\in \\{1,..,V\\}$\n",
    " \n",
    " \n",
    " - Se um vértice está contido como partida em alguma aresta da solução, ele obrigatoriamente deve estar contido como destino em alguma aresta da solução \n",
    "     \n",
    "     $\\sum_{i=1}^{V}\\sum_{j=1}^{V} A_{(i,j)} + A_{(j, i)} = 0  $"
   ]
  },
  {
   "cell_type": "markdown",
   "id": "0e36d1c4",
   "metadata": {},
   "source": [
    "## Código"
   ]
  },
  {
   "cell_type": "code",
   "execution_count": 39,
   "id": "574ad4f9",
   "metadata": {},
   "outputs": [],
   "source": [
    "file = \"instancias/A-n32-k5.vrp\"\n",
    "v, P = parse_file(file)\n",
    "D = get_distancias(v)\n",
    "cardinalidade = length(P);"
   ]
  },
  {
   "cell_type": "code",
   "execution_count": 49,
   "id": "bcad6542",
   "metadata": {},
   "outputs": [],
   "source": [
    "m = Model(GLPK.Optimizer)\n",
    "\n",
    "@variable(m, A[1:cardinalidade, 1:cardinalidade], Bin)\n",
    "@variable(m, V[1:cardinalidade], Bin);\n",
    "\n",
    "@objective(m, Min, sum(D .* A) - sum(P .* V));"
   ]
  },
  {
   "cell_type": "code",
   "execution_count": 56,
   "id": "dca444be",
   "metadata": {
    "scrolled": true
   },
   "outputs": [
    {
     "data": {
      "text/latex": [
       "$$ A_{1,1} + A_{1,2} + A_{1,3} + A_{1,4} + A_{1,5} + A_{1,6} + A_{1,7} + A_{1,8} + A_{1,9} + A_{1,10} + A_{1,11} + A_{1,12} + A_{1,13} + A_{1,14} + A_{1,15} + A_{1,16} + A_{1,17} + A_{1,18} + A_{1,19} + A_{1,20} + A_{1,21} + A_{1,22} + A_{1,23} + A_{1,24} + A_{1,25} + A_{1,26} + A_{1,27} + A_{1,28} + A_{1,29} + A_{1,30} + A_{1,31} + A_{1,32} = 1.0 $$"
      ],
      "text/plain": [
       "A[1,1] + A[1,2] + A[1,3] + A[1,4] + A[1,5] + A[1,6] + A[1,7] + A[1,8] + A[1,9] + A[1,10] + A[1,11] + A[1,12] + A[1,13] + A[1,14] + A[1,15] + A[1,16] + A[1,17] + A[1,18] + A[1,19] + A[1,20] + A[1,21] + A[1,22] + A[1,23] + A[1,24] + A[1,25] + A[1,26] + A[1,27] + A[1,28] + A[1,29] + A[1,30] + A[1,31] + A[1,32] = 1.0"
      ]
     },
     "execution_count": 56,
     "metadata": {},
     "output_type": "execute_result"
    }
   ],
   "source": [
    "@constraint(m,sum(A[1, :]) == 1)"
   ]
  },
  {
   "cell_type": "code",
   "execution_count": 51,
   "id": "43904c6d",
   "metadata": {},
   "outputs": [],
   "source": [
    "@constraints(m, begin\n",
    "    sum(A[1, :]) == Int8(1)\n",
    "    sum(A[:, 1]) == Int8(1)\n",
    "    sum(A, dims=2) .== V\n",
    "    sum(A, dims=2) .<= ones(Int64, cardinalidade)\n",
    "    sum(A, dims=1) .<= ones(Int64, (1, cardinalidade))\n",
    "    A + transpose(A) .== zeros(Int64, (cardinalidade, cardinalidade))\n",
    "    end\n",
    ")"
   ]
  },
  {
   "cell_type": "code",
   "execution_count": 52,
   "id": "c6fb8e16",
   "metadata": {},
   "outputs": [],
   "source": [
    "optimize!(m)\n"
   ]
  },
  {
   "cell_type": "code",
   "execution_count": 53,
   "id": "91775f01",
   "metadata": {},
   "outputs": [
    {
     "ename": "MathOptInterface.ResultIndexBoundsError{MathOptInterface.ObjectiveValue}",
     "evalue": "\u001b[91mResult index of attribute MathOptInterface.ObjectiveValue(1) out of bounds. There are currently 0 solution(s) in the model.\u001b[39m",
     "output_type": "error",
     "traceback": [
      "\u001b[91mResult index of attribute MathOptInterface.ObjectiveValue(1) out of bounds. There are currently 0 solution(s) in the model.\u001b[39m",
      "",
      "Stacktrace:",
      " [1] check_result_index_bounds at /opt/julia/packages/MathOptInterface/5WwpK/src/attributes.jl:139 [inlined]",
      " [2] get at /opt/julia/packages/GLPK/XEiWU/src/MOI_wrapper/MOI_wrapper.jl:1820 [inlined]",
      " [3] get(::MathOptInterface.Bridges.LazyBridgeOptimizer{GLPK.Optimizer}, ::MathOptInterface.ObjectiveValue) at /opt/julia/packages/MathOptInterface/5WwpK/src/Bridges/bridge_optimizer.jl:816",
      " [4] get(::MathOptInterface.Utilities.CachingOptimizer{MathOptInterface.AbstractOptimizer,MathOptInterface.Utilities.UniversalFallback{MathOptInterface.Utilities.Model{Float64}}}, ::MathOptInterface.ObjectiveValue) at /opt/julia/packages/MathOptInterface/5WwpK/src/Utilities/cachingoptimizer.jl:706",
      " [5] _moi_get_result(::MathOptInterface.Utilities.CachingOptimizer{MathOptInterface.AbstractOptimizer,MathOptInterface.Utilities.UniversalFallback{MathOptInterface.Utilities.Model{Float64}}}, ::MathOptInterface.ObjectiveValue) at /opt/julia/packages/JuMP/MIPb6/src/JuMP.jl:1087",
      " [6] get(::Model, ::MathOptInterface.ObjectiveValue) at /opt/julia/packages/JuMP/MIPb6/src/JuMP.jl:1100",
      " [7] objective_value(::Model; result::Int64) at /opt/julia/packages/JuMP/MIPb6/src/objective.jl:42",
      " [8] objective_value(::Model) at /opt/julia/packages/JuMP/MIPb6/src/objective.jl:42",
      " [9] top-level scope at show.jl:613",
      " [10] top-level scope at In[53]:1"
     ]
    }
   ],
   "source": [
    "@show objective_value(m)\n"
   ]
  },
  {
   "cell_type": "code",
   "execution_count": null,
   "id": "f01490bd",
   "metadata": {},
   "outputs": [],
   "source": []
  }
 ],
 "metadata": {
  "kernelspec": {
   "display_name": "Julia 1.4.1",
   "language": "julia",
   "name": "julia-1.4"
  },
  "language_info": {
   "file_extension": ".jl",
   "mimetype": "application/julia",
   "name": "julia",
   "version": "1.4.1"
  }
 },
 "nbformat": 4,
 "nbformat_minor": 5
}
