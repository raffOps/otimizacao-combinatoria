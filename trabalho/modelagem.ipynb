{
 "cells": [
  {
   "cell_type": "code",
   "execution_count": 20,
   "id": "04555bb0",
   "metadata": {},
   "outputs": [],
   "source": [
    "using NBInclude\n",
    "using GLPK\n",
    "using JuMP\n",
    "using LinearAlgebra\n",
    "@nbinclude(\"parser.ipynb\")"
   ]
  },
  {
   "cell_type": "markdown",
   "id": "770e365f",
   "metadata": {},
   "source": [
    "# Rota mais valiosa\n",
    "Instância Um grafo completo G = (V, A) com distâncias da, a ∈ A, entre os vértices, prêmios pv,\n",
    "v ∈ V , nos vértices e um vértice de origem vo ∈ V .\n",
    "Solução Uma rota R = (vo, v1, v2, . . . , vk, vo) inciando e terminando em vo com vértices intermediários vi ∈ V . Cada vértice em V \\ {vo} pode ser contido no máximo um vez em R.\n",
    "Objetivo Minimizar o valor total v(R) = dvo,v1 +\n",
    "∑\n",
    "i∈[k−1] dvi,vi+1 + dvk,vo −\n",
    "∑\n",
    "i∈[k]\n",
    "pvi da rota."
   ]
  },
  {
   "cell_type": "markdown",
   "id": "4c52dc17",
   "metadata": {},
   "source": [
    "## Variáveis\n",
    "- D -> Matriz de adjacência com o peso de cada aresta \n",
    "- A -> Matriz de adjacência com a booleano informando se a aresta pertence ou não a solução\n",
    "- P -> Lista com o peso (prêmio) de cada vértice\n",
    "- V -> Lista com a booleano informando se o vértice foi visitado ou não"
   ]
  },
  {
   "cell_type": "markdown",
   "id": "c01cc044",
   "metadata": {},
   "source": [
    "## Modelagem\n",
    "Minimizar \n",
    "    $\\sum_{i=0}^{V-1}\\sum_{j=0}^{V-1} D_{(i,j)} * A_{(i,j)} - \\sum_{i=0}^{V-1} P_{(i)} * V_{(i)}$\n",
    "\n",
    "\n",
    "Sujeito:\n",
    "    \n",
    " - A aresta i,j pode (1) ou não (0) estar contido na solução: \n",
    "     \n",
    "     $A_{(i,j)} \\in \\{0,1\\}$ \n",
    " \n",
    " \n",
    " - O vértica i pode (1) ou não (0) estar contido em algumas das arestas da solução:\n",
    "     \n",
    "     $V_{(i)} \\in \\{0,1\\}$ \n",
    " \n",
    " \n",
    " - A aresta que sai do vértice 0, que é vértice de partida, deve obrigatoriamente estar contido na solução\n",
    "     \n",
    "     $\\sum_{j=1}^{V} A_{(0,j)} = 1$\n",
    " \n",
    " \n",
    " - A aresta que chega no vértice 0, que é vértice de destino, deve obrigatoriamente estar contido na solução\n",
    "     \n",
    "     $\\sum_{i=1}^{V} A_{(i,1)} = 1$\n",
    " \n",
    " \n",
    " - Vinculação dos vértice visitados com os prêmios destes.\n",
    "     \n",
    "     $\\sum_{j=1}^{V} A_{(i,j)} = V_{i}, \\forall_{i} \\in \\{1,..,V\\}$\n",
    " \n",
    " \n",
    " - Um vértice não pode estar contido como destino em mais de 1 aresta da solução\n",
    "     \n",
    "     $\\sum_{i=1}^{V-1} A_{(i,j)} <= 1, \\forall_{j} \\in \\{1,..,V\\}$\n",
    " \n",
    " \n",
    " - Um vértice não pode estar contido como partida em mais de 1 aresta da solução\n",
    "     \n",
    "     $\\sum_{j=1}^{V} A_{(i,j)} <= 1, \\forall_{i} \\in \\{1,..,V\\}$\n",
    " \n",
    " \n",
    " - Se um vértice está contido como partida em alguma aresta da solução, ele obrigatoriamente deve estar contido como destino em alguma aresta da solução \n",
    "     \n",
    "     $\\sum_{i=1}^{V}\\sum_{j=1}^{V} A_{(i,j)} - A_{(j, i)} = 0  $"
   ]
  },
  {
   "cell_type": "markdown",
   "id": "0e36d1c4",
   "metadata": {},
   "source": [
    "## Código"
   ]
  },
  {
   "cell_type": "code",
   "execution_count": 2,
   "id": "574ad4f9",
   "metadata": {},
   "outputs": [],
   "source": [
    "file = \"instancias/A-n32-k5.vrp\"\n",
    "v, P = parse_file(file)\n",
    "D = get_distancias(v)\n",
    "cardinalidade = length(P);"
   ]
  },
  {
   "cell_type": "code",
   "execution_count": 29,
   "id": "bcad6542",
   "metadata": {},
   "outputs": [],
   "source": [
    "m = Model(GLPK.Optimizer)\n",
    "\n",
    "@variable(m, A[1:cardinalidade, 1:cardinalidade], Bin)\n",
    "@variable(m, V[1:cardinalidade], Bin);\n",
    "\n",
    "@objective(m, Min, sum(D .* A) - sum(P .* V));"
   ]
  },
  {
   "cell_type": "code",
   "execution_count": 31,
   "id": "fcfe5875",
   "metadata": {},
   "outputs": [],
   "source": [
    "#Diagonal(A) .== zeros()"
   ]
  },
  {
   "cell_type": "code",
   "execution_count": 32,
   "id": "43904c6d",
   "metadata": {},
   "outputs": [],
   "source": [
    "@constraints(m, begin\n",
    "    sum(A[1, :]) == Int8(1)\n",
    "    sum(A[:, 1]) == Int8(1)\n",
    "    sum(A, dims=2) .== V\n",
    "    sum(A, dims=2) .<= ones(Int64, cardinalidade)\n",
    "    sum(A, dims=1) .<= ones(Int64, (1, cardinalidade))\n",
    "    sum(A - transpose(A)) == 0\n",
    "    end\n",
    ")"
   ]
  },
  {
   "cell_type": "code",
   "execution_count": 33,
   "id": "c6fb8e16",
   "metadata": {},
   "outputs": [],
   "source": [
    "optimize!(m)\n"
   ]
  },
  {
   "cell_type": "code",
   "execution_count": 34,
   "id": "91775f01",
   "metadata": {},
   "outputs": [
    {
     "name": "stdout",
     "output_type": "stream",
     "text": [
      "objective_value(m) = -410.0\n"
     ]
    },
    {
     "data": {
      "text/plain": [
       "-410.0"
      ]
     },
     "execution_count": 34,
     "metadata": {},
     "output_type": "execute_result"
    }
   ],
   "source": [
    "@show objective_value(m)\n"
   ]
  },
  {
   "cell_type": "code",
   "execution_count": 36,
   "id": "f01490bd",
   "metadata": {},
   "outputs": [
    {
     "data": {
      "text/plain": [
       "32×32 Array{Float64,2}:\n",
       " 1.0  0.0  0.0  0.0  0.0  0.0  0.0  0.0  …  0.0  0.0  0.0  0.0  0.0  0.0  0.0\n",
       " 0.0  1.0  0.0  0.0  0.0  0.0  0.0  0.0     0.0  0.0  0.0  0.0  0.0  0.0  0.0\n",
       " 0.0  0.0  1.0  0.0  0.0  0.0  0.0  0.0     0.0  0.0  0.0  0.0  0.0  0.0  0.0\n",
       " 0.0  0.0  0.0  1.0  0.0  0.0  0.0  0.0     0.0  0.0  0.0  0.0  0.0  0.0  0.0\n",
       " 0.0  0.0  0.0  0.0  1.0  0.0  0.0  0.0     0.0  0.0  0.0  0.0  0.0  0.0  0.0\n",
       " 0.0  0.0  0.0  0.0  0.0  1.0  0.0  0.0  …  0.0  0.0  0.0  0.0  0.0  0.0  0.0\n",
       " 0.0  0.0  0.0  0.0  0.0  0.0  1.0  0.0     0.0  0.0  0.0  0.0  0.0  0.0  0.0\n",
       " 0.0  0.0  0.0  0.0  0.0  0.0  0.0  1.0     0.0  0.0  0.0  0.0  0.0  0.0  0.0\n",
       " 0.0  0.0  0.0  0.0  0.0  0.0  0.0  0.0     0.0  0.0  0.0  0.0  0.0  0.0  0.0\n",
       " 0.0  0.0  0.0  0.0  0.0  0.0  0.0  0.0     0.0  0.0  0.0  0.0  0.0  0.0  0.0\n",
       " 0.0  0.0  0.0  0.0  0.0  0.0  0.0  0.0  …  0.0  0.0  0.0  0.0  0.0  0.0  0.0\n",
       " 0.0  0.0  0.0  0.0  0.0  0.0  0.0  0.0     0.0  0.0  0.0  0.0  0.0  0.0  0.0\n",
       " 0.0  0.0  0.0  0.0  0.0  0.0  0.0  0.0     0.0  0.0  0.0  0.0  0.0  0.0  0.0\n",
       " ⋮                        ⋮              ⋱  ⋮                        ⋮    \n",
       " 0.0  0.0  0.0  0.0  0.0  0.0  0.0  0.0  …  0.0  0.0  0.0  0.0  0.0  0.0  0.0\n",
       " 0.0  0.0  0.0  0.0  0.0  0.0  0.0  0.0     0.0  0.0  0.0  0.0  0.0  0.0  0.0\n",
       " 0.0  0.0  0.0  0.0  0.0  0.0  0.0  0.0     0.0  0.0  0.0  0.0  0.0  0.0  0.0\n",
       " 0.0  0.0  0.0  0.0  0.0  0.0  0.0  0.0     0.0  0.0  0.0  0.0  0.0  0.0  0.0\n",
       " 0.0  0.0  0.0  0.0  0.0  0.0  0.0  0.0     0.0  0.0  0.0  0.0  0.0  0.0  0.0\n",
       " 0.0  0.0  0.0  0.0  0.0  0.0  0.0  0.0  …  1.0  0.0  0.0  0.0  0.0  0.0  0.0\n",
       " 0.0  0.0  0.0  0.0  0.0  0.0  0.0  0.0     0.0  1.0  0.0  0.0  0.0  0.0  0.0\n",
       " 0.0  0.0  0.0  0.0  0.0  0.0  0.0  0.0     0.0  0.0  1.0  0.0  0.0  0.0  0.0\n",
       " 0.0  0.0  0.0  0.0  0.0  0.0  0.0  0.0     0.0  0.0  0.0  1.0  0.0  0.0  0.0\n",
       " 0.0  0.0  0.0  0.0  0.0  0.0  0.0  0.0     0.0  0.0  0.0  0.0  1.0  0.0  0.0\n",
       " 0.0  0.0  0.0  0.0  0.0  0.0  0.0  0.0  …  0.0  0.0  0.0  0.0  0.0  1.0  0.0\n",
       " 0.0  0.0  0.0  0.0  0.0  0.0  0.0  0.0     0.0  0.0  0.0  0.0  0.0  0.0  1.0"
      ]
     },
     "execution_count": 36,
     "metadata": {},
     "output_type": "execute_result"
    }
   ],
   "source": [
    "JuMP.value.(A)"
   ]
  },
  {
   "cell_type": "code",
   "execution_count": null,
   "id": "78d1813b",
   "metadata": {},
   "outputs": [],
   "source": []
  }
 ],
 "metadata": {
  "kernelspec": {
   "display_name": "Julia 1.4.1",
   "language": "julia",
   "name": "julia-1.4"
  },
  "language_info": {
   "file_extension": ".jl",
   "mimetype": "application/julia",
   "name": "julia",
   "version": "1.4.1"
  }
 },
 "nbformat": 4,
 "nbformat_minor": 5
}
