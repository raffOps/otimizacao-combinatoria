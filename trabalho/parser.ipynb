{
 "cells": [
  {
   "cell_type": "code",
   "execution_count": 1,
   "id": "f02074af",
   "metadata": {},
   "outputs": [
    {
     "data": {
      "text/plain": [
       "parse_file (generic function with 1 method)"
      ]
     },
     "execution_count": 1,
     "metadata": {},
     "output_type": "execute_result"
    }
   ],
   "source": [
    "function parse_file(file)\n",
    "    instancia = open(\"instancias/\"*file)\n",
    "    arr  = []\n",
    "    for line in eachline(instancia)\n",
    "        push!(arr, line)\n",
    "    end\n",
    "    close(instancia)\n",
    "    \n",
    "    vertices = []\n",
    "    premios = []\n",
    "    flag_vertices = true\n",
    "    for line in arr[8:length(arr)]\n",
    "        if startswith(line, \"DEMAND_SECTION\")\n",
    "            flag_vertices = false\n",
    "        elseif startswith(line, \"DEPOT_SECTION\")\n",
    "            break\n",
    "        elseif flag_vertices\n",
    "            x, y = split(line)[2:3]\n",
    "            x = parse(Int32, x)\n",
    "            y = parse(Int32, y)\n",
    "            push!(vertices, (x,y))\n",
    "        else\n",
    "            premio = split(line)[2]\n",
    "            premio = parse(Int32, premio)\n",
    "            push!(premios, premio)\n",
    "\n",
    "        end\n",
    "    end\n",
    "    return (vertices, premios)\n",
    "end"
   ]
  },
  {
   "cell_type": "code",
   "execution_count": 2,
   "id": "8ffac488",
   "metadata": {},
   "outputs": [
    {
     "data": {
      "text/plain": [
       "get_distancias (generic function with 1 method)"
      ]
     },
     "execution_count": 2,
     "metadata": {},
     "output_type": "execute_result"
    }
   ],
   "source": [
    "function get_distancias(vertices)\n",
    "    cardinalidade = length(vertices)\n",
    "    distancias = zeros(cardinalidade, cardinalidade)\n",
    "    for i in 1:cardinalidade\n",
    "        for j in 1:cardinalidade\n",
    "            distancia = ((vertices[i][1] - vertices[j][1])^2 + (vertices[i][2] - vertices[j][2])^2)^(0.5)\n",
    "            distancias[i, j] =  round(distancia)\n",
    "        end\n",
    "    end\n",
    "    return distancias\n",
    "end"
   ]
  },
  {
   "cell_type": "code",
   "execution_count": 3,
   "id": "07c6d36d",
   "metadata": {},
   "outputs": [
    {
     "data": {
      "text/plain": [
       "get_arestas (generic function with 1 method)"
      ]
     },
     "execution_count": 3,
     "metadata": {},
     "output_type": "execute_result"
    }
   ],
   "source": [
    "function get_arestas(vertices)\n",
    "    cardinalidade = length(vertices)\n",
    "    arestas = zeros(Int8, cardinalidade, cardinalidade)\n",
    "    return arestas\n",
    "end"
   ]
  },
  {
   "cell_type": "code",
   "execution_count": 4,
   "id": "4b6fa66a",
   "metadata": {},
   "outputs": [],
   "source": [
    "# teste\n",
    "for file in readdir(\"instancias\")\n",
    "    #println(file)\n",
    "    vertices, premios = parse_file(file)\n",
    "    distancias = get_distancias(vertices)\n",
    "    arestas = get_arestas(vertices)\n",
    "    if !(size(distancias)[1] == size(vertices)[1])\n",
    "        println(\"Erro \", file)\n",
    "    end\n",
    "end"
   ]
  },
  {
   "cell_type": "code",
   "execution_count": null,
   "id": "eb5a5056",
   "metadata": {},
   "outputs": [],
   "source": []
  }
 ],
 "metadata": {
  "kernelspec": {
   "display_name": "Julia 1.4.1",
   "language": "julia",
   "name": "julia-1.4"
  },
  "language_info": {
   "file_extension": ".jl",
   "mimetype": "application/julia",
   "name": "julia",
   "version": "1.4.1"
  }
 },
 "nbformat": 4,
 "nbformat_minor": 5
}
