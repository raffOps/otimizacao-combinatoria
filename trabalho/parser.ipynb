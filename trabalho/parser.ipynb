{
 "cells": [
  {
   "cell_type": "code",
   "execution_count": 24,
   "id": "f02074af",
   "metadata": {},
   "outputs": [
    {
     "data": {
      "text/plain": [
       "parse_file (generic function with 1 method)"
      ]
     },
     "execution_count": 24,
     "metadata": {},
     "output_type": "execute_result"
    }
   ],
   "source": [
    "function parse_file(file)\n",
    "    instancia = open(file)\n",
    "    arr  = []\n",
    "    for line in eachline(instancia)\n",
    "        push!(arr, line)\n",
    "    end\n",
    "    close(instancia)\n",
    "    \n",
    "    nodos = []\n",
    "    premios = []\n",
    "    flag_nodos = true\n",
    "    for line in arr[8:length(arr)]\n",
    "        if startswith(line, \"DEMAND_SECTION\")\n",
    "            flag_nodos = false\n",
    "        elseif startswith(line, \"DEPOT_SECTION\")\n",
    "            break\n",
    "        elseif flag_nodos\n",
    "            x, y = split(line)[2:3]\n",
    "            x = parse(Int32, x)\n",
    "            y = parse(Int32, y)\n",
    "            push!(nodos, (x,y))\n",
    "        else\n",
    "            premio = split(line)[2]\n",
    "            premio = parse(Int32, premio)\n",
    "            push!(premios, premio)\n",
    "\n",
    "        end\n",
    "    end\n",
    "    return (nodos, premios)\n",
    "end"
   ]
  },
  {
   "cell_type": "code",
   "execution_count": 26,
   "id": "f53ad432",
   "metadata": {},
   "outputs": [
    {
     "name": "stdout",
     "output_type": "stream",
     "text": [
      "instancias/A-n32-k5.vrp\n",
      "instancias/A-n80-k10.vrp\n",
      "instancias/B-n31-k5.vrp\n",
      "instancias/B-n78-k10.vrp\n",
      "instancias/E-n101-k14.vrp\n",
      "instancias/E-n76-k8.vrp\n",
      "instancias/F-n72-k4.vrp\n",
      "instancias/G-n262-k25.vrp\n",
      "instancias/M-n101-k10.vrp\n",
      "instancias/M-n200-k17.vrp\n",
      "instancias/P-n101-k4.vrp\n",
      "instancias/P-n76-k5.vrp\n"
     ]
    }
   ],
   "source": [
    "# teste\n",
    "for file in readdir(\"instancias\"; join=true)\n",
    "    println(file)\n",
    "    nodos, premios = parse_file(file)\n",
    "end"
   ]
  },
  {
   "cell_type": "code",
   "execution_count": null,
   "id": "412403c4",
   "metadata": {},
   "outputs": [],
   "source": []
  }
 ],
 "metadata": {
  "kernelspec": {
   "display_name": "Julia 1.4.1",
   "language": "julia",
   "name": "julia-1.4"
  },
  "language_info": {
   "file_extension": ".jl",
   "mimetype": "application/julia",
   "name": "julia",
   "version": "1.4.1"
  }
 },
 "nbformat": 4,
 "nbformat_minor": 5
}
