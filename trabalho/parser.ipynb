{
 "cells": [
  {
   "cell_type": "code",
   "execution_count": 1,
   "id": "f02074af",
   "metadata": {},
   "outputs": [
    {
     "data": {
      "text/plain": [
       "parse_file (generic function with 1 method)"
      ]
     },
     "execution_count": 1,
     "metadata": {},
     "output_type": "execute_result"
    }
   ],
   "source": [
    "function parse_file(file)\n",
    "    instancia = open(file)\n",
    "    arr  = []\n",
    "    for line in eachline(instancia)\n",
    "        push!(arr, line)\n",
    "    end\n",
    "    close(instancia)\n",
    "    \n",
    "    vertices = []\n",
    "    premios = []\n",
    "    flag_vertices = true\n",
    "    for line in arr[8:length(arr)]\n",
    "        if startswith(line, \"DEMAND_SECTION\")\n",
    "            flag_vertices = false\n",
    "        elseif startswith(line, \"DEPOT_SECTION\")\n",
    "            break\n",
    "        elseif flag_vertices\n",
    "            x, y = split(line)[2:3]\n",
    "            x = parse(Int32, x)\n",
    "            y = parse(Int32, y)\n",
    "            push!(vertices, (x,y))\n",
    "        else\n",
    "            premio = split(line)[2]\n",
    "            premio = parse(Int32, premio)\n",
    "            push!(premios, premio)\n",
    "\n",
    "        end\n",
    "    end\n",
    "    return (vertices, premios)\n",
    "end"
   ]
  },
  {
   "cell_type": "code",
   "execution_count": 2,
   "id": "8ffac488",
   "metadata": {},
   "outputs": [
    {
     "data": {
      "text/plain": [
       "get_distancias (generic function with 1 method)"
      ]
     },
     "execution_count": 2,
     "metadata": {},
     "output_type": "execute_result"
    }
   ],
   "source": [
    "function get_distancias(vertices)\n",
    "    cardinalidade = length(vertices)\n",
    "    distancias = zeros(cardinalidade, cardinalidade)\n",
    "    for i in 1:cardinalidade\n",
    "        for j in 1:cardinalidade\n",
    "            distancia = ((vertices[i][1] - vertices[j][1])^2 + (vertices[i][2] - vertices[j][2])^2)^(0.5)\n",
    "            distancias[i, j] =  round(distancia)\n",
    "        end\n",
    "    end\n",
    "    return distancias\n",
    "end"
   ]
  },
  {
   "cell_type": "code",
   "execution_count": 3,
   "id": "07c6d36d",
   "metadata": {},
   "outputs": [
    {
     "data": {
      "text/plain": [
       "get_arestas (generic function with 1 method)"
      ]
     },
     "execution_count": 3,
     "metadata": {},
     "output_type": "execute_result"
    }
   ],
   "source": [
    "function get_arestas(vertices)\n",
    "    cardinalidade = length(vertices)\n",
    "    arestas = zeros(Int8, cardinalidade, cardinalidade)\n",
    "    return arestas\n",
    "end"
   ]
  },
  {
   "cell_type": "code",
   "execution_count": 5,
   "id": "d6294444",
   "metadata": {},
   "outputs": [
    {
     "data": {
      "text/plain": [
       "2-element Array{Any,1}:\n",
       " 1\n",
       "  \"a\""
      ]
     },
     "execution_count": 5,
     "metadata": {},
     "output_type": "execute_result"
    }
   ],
   "source": [
    "[1, \"a\"]"
   ]
  },
  {
   "cell_type": "code",
   "execution_count": 4,
   "id": "412403c4",
   "metadata": {},
   "outputs": [
    {
     "data": {
      "text/plain": [
       "(Any[(82, 76), (96, 44), (50, 5), (49, 8), (13, 7), (29, 89), (58, 30), (84, 39), (14, 24), (2, 39)  …  (5, 42), (42, 9), (61, 62), (9, 97), (80, 55), (57, 69), (23, 15), (20, 70), (85, 60), (98, 5)], Any[0, 19, 21, 6, 19, 7, 12, 16, 6, 16  …  4, 8, 24, 24, 2, 20, 15, 2, 14, 9])"
      ]
     },
     "execution_count": 4,
     "metadata": {},
     "output_type": "execute_result"
    }
   ],
   "source": [
    "file = \"instancias/A-n32-k5.vrp\"\n",
    "vertices, premios = parse_file(file)"
   ]
  },
  {
   "cell_type": "code",
   "execution_count": 56,
   "id": "334e5f28",
   "metadata": {},
   "outputs": [
    {
     "data": {
      "text/plain": [
       "32×32 Array{Float64,2}:\n",
       " 0.0    35.0    78.0    76.0    98.0    …  85.0    62.0    16.0     73.0\n",
       " 1.0e7   0.0    60.0    59.0    91.0       79.0    80.0    19.0     39.0\n",
       " 1.0e7   1.0e7   0.0     3.0    37.0       29.0    72.0    65.0     48.0\n",
       " 1.0e7   1.0e7   1.0e7   0.0    36.0       27.0    68.0    63.0     49.0\n",
       " 1.0e7   1.0e7   1.0e7   1.0e7   0.0       13.0    63.0    89.0     85.0\n",
       " 1.0e7   1.0e7   1.0e7   1.0e7   1.0e7  …  74.0    21.0    63.0    109.0\n",
       " 1.0e7   1.0e7   1.0e7   1.0e7   1.0e7     38.0    55.0    40.0     47.0\n",
       " 1.0e7   1.0e7   1.0e7   1.0e7   1.0e7     66.0    71.0    21.0     37.0\n",
       " 1.0e7   1.0e7   1.0e7   1.0e7   1.0e7     13.0    46.0    80.0     86.0\n",
       " 1.0e7   1.0e7   1.0e7   1.0e7   1.0e7     32.0    36.0    86.0    102.0\n",
       " 1.0e7   1.0e7   1.0e7   1.0e7   1.0e7  …  70.0    21.0    85.0    122.0\n",
       " 1.0e7   1.0e7   1.0e7   1.0e7   1.0e7     19.0    62.0    94.0     93.0\n",
       " 1.0e7   1.0e7   1.0e7   1.0e7   1.0e7     84.0    80.0    15.0     47.0\n",
       " ⋮                                      ⋱                   ⋮      \n",
       " 1.0e7   1.0e7   1.0e7   1.0e7   1.0e7  …  83.0    38.0    48.0    100.0\n",
       " 1.0e7   1.0e7   1.0e7   1.0e7   1.0e7     75.0    96.0    48.0      9.0\n",
       " 1.0e7   1.0e7   1.0e7   1.0e7   1.0e7     32.0    32.0    82.0    100.0\n",
       " 1.0e7   1.0e7   1.0e7   1.0e7   1.0e7     20.0    65.0    67.0     56.0\n",
       " 1.0e7   1.0e7   1.0e7   1.0e7   1.0e7     60.0    42.0    24.0     68.0\n",
       " 1.0e7   1.0e7   1.0e7   1.0e7   1.0e7  …  83.0    29.0    85.0    128.0\n",
       " 1.0e7   1.0e7   1.0e7   1.0e7   1.0e7     70.0    62.0     7.0     53.0\n",
       " 1.0e7   1.0e7   1.0e7   1.0e7   1.0e7     64.0    37.0    29.0     76.0\n",
       " 1.0e7   1.0e7   1.0e7   1.0e7   1.0e7      0.0    55.0    77.0     76.0\n",
       " 1.0e7   1.0e7   1.0e7   1.0e7   1.0e7      1.0e7   0.0    66.0    102.0\n",
       " 1.0e7   1.0e7   1.0e7   1.0e7   1.0e7  …   1.0e7   1.0e7   0.0     57.0\n",
       " 1.0e7   1.0e7   1.0e7   1.0e7   1.0e7      1.0e7   1.0e7   1.0e7    0.0"
      ]
     },
     "execution_count": 56,
     "metadata": {},
     "output_type": "execute_result"
    }
   ],
   "source": [
    "distancias = get_distancias(vertices)"
   ]
  },
  {
   "cell_type": "code",
   "execution_count": 47,
   "id": "e0c2c68c",
   "metadata": {},
   "outputs": [
    {
     "data": {
      "text/plain": [
       "32×32 Array{Int8,2}:\n",
       " 0  0  0  0  0  0  0  0  0  0  0  0  0  …  0  0  0  0  0  0  0  0  0  0  0  0\n",
       " 0  0  0  0  0  0  0  0  0  0  0  0  0     0  0  0  0  0  0  0  0  0  0  0  0\n",
       " 0  0  0  0  0  0  0  0  0  0  0  0  0     0  0  0  0  0  0  0  0  0  0  0  0\n",
       " 0  0  0  0  0  0  0  0  0  0  0  0  0     0  0  0  0  0  0  0  0  0  0  0  0\n",
       " 0  0  0  0  0  0  0  0  0  0  0  0  0     0  0  0  0  0  0  0  0  0  0  0  0\n",
       " 0  0  0  0  0  0  0  0  0  0  0  0  0  …  0  0  0  0  0  0  0  0  0  0  0  0\n",
       " 0  0  0  0  0  0  0  0  0  0  0  0  0     0  0  0  0  0  0  0  0  0  0  0  0\n",
       " 0  0  0  0  0  0  0  0  0  0  0  0  0     0  0  0  0  0  0  0  0  0  0  0  0\n",
       " 0  0  0  0  0  0  0  0  0  0  0  0  0     0  0  0  0  0  0  0  0  0  0  0  0\n",
       " 0  0  0  0  0  0  0  0  0  0  0  0  0     0  0  0  0  0  0  0  0  0  0  0  0\n",
       " 0  0  0  0  0  0  0  0  0  0  0  0  0  …  0  0  0  0  0  0  0  0  0  0  0  0\n",
       " 0  0  0  0  0  0  0  0  0  0  0  0  0     0  0  0  0  0  0  0  0  0  0  0  0\n",
       " 0  0  0  0  0  0  0  0  0  0  0  0  0     0  0  0  0  0  0  0  0  0  0  0  0\n",
       " ⋮              ⋮              ⋮        ⋱  ⋮              ⋮              ⋮  \n",
       " 0  0  0  0  0  0  0  0  0  0  0  0  0  …  0  0  0  0  0  0  0  0  0  0  0  0\n",
       " 0  0  0  0  0  0  0  0  0  0  0  0  0     0  0  0  0  0  0  0  0  0  0  0  0\n",
       " 0  0  0  0  0  0  0  0  0  0  0  0  0     0  0  0  0  0  0  0  0  0  0  0  0\n",
       " 0  0  0  0  0  0  0  0  0  0  0  0  0     0  0  0  0  0  0  0  0  0  0  0  0\n",
       " 0  0  0  0  0  0  0  0  0  0  0  0  0     0  0  0  0  0  0  0  0  0  0  0  0\n",
       " 0  0  0  0  0  0  0  0  0  0  0  0  0  …  0  0  0  0  0  0  0  0  0  0  0  0\n",
       " 0  0  0  0  0  0  0  0  0  0  0  0  0     0  0  0  0  0  0  0  0  0  0  0  0\n",
       " 0  0  0  0  0  0  0  0  0  0  0  0  0     0  0  0  0  0  0  0  0  0  0  0  0\n",
       " 0  0  0  0  0  0  0  0  0  0  0  0  0     0  0  0  0  0  0  0  0  0  0  0  0\n",
       " 0  0  0  0  0  0  0  0  0  0  0  0  0     0  0  0  0  0  0  0  0  0  0  0  0\n",
       " 0  0  0  0  0  0  0  0  0  0  0  0  0  …  0  0  0  0  0  0  0  0  0  0  0  0\n",
       " 0  0  0  0  0  0  0  0  0  0  0  0  0     0  0  0  0  0  0  0  0  0  0  0  0"
      ]
     },
     "execution_count": 47,
     "metadata": {},
     "output_type": "execute_result"
    }
   ],
   "source": [
    "arestas = get_arestas(vertices)"
   ]
  },
  {
   "cell_type": "code",
   "execution_count": 37,
   "id": "4b6fa66a",
   "metadata": {},
   "outputs": [],
   "source": [
    "# teste\n",
    "for file in readdir(\"instancias\"; join=true)\n",
    "    #println(file)\n",
    "    vertices, premios = parse_file(file)\n",
    "    distancias = get_distancias(vertices)\n",
    "    arestas = get_arestas(vertices)\n",
    "    if !(size(distancias)[1] == size(vertices)[1])\n",
    "        println(\"Erro \", file)\n",
    "    end\n",
    "end"
   ]
  },
  {
   "cell_type": "code",
   "execution_count": null,
   "id": "eb5a5056",
   "metadata": {},
   "outputs": [],
   "source": []
  }
 ],
 "metadata": {
  "kernelspec": {
   "display_name": "Julia 1.4.1",
   "language": "julia",
   "name": "julia-1.4"
  },
  "language_info": {
   "file_extension": ".jl",
   "mimetype": "application/julia",
   "name": "julia",
   "version": "1.4.1"
  }
 },
 "nbformat": 4,
 "nbformat_minor": 5
}
