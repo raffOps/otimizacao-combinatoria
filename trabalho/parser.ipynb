{
 "cells": [
  {
   "cell_type": "code",
   "execution_count": 103,
   "id": "f02074af",
   "metadata": {},
   "outputs": [
    {
     "data": {
      "text/plain": [
       "parse_file (generic function with 1 method)"
      ]
     },
     "execution_count": 103,
     "metadata": {},
     "output_type": "execute_result"
    }
   ],
   "source": [
    "function parse_file(file)\n",
    "    instancia = open(file)\n",
    "    arr  = []\n",
    "    for line in eachline(instancia)\n",
    "        push!(arr, line)\n",
    "    end\n",
    "    close(instancia)\n",
    "    \n",
    "    vertices = []\n",
    "    premios = []\n",
    "    flag_vertices = true\n",
    "    for line in arr[8:length(arr)]\n",
    "        if startswith(line, \"DEMAND_SECTION\")\n",
    "            flag_vertices = false\n",
    "        elseif startswith(line, \"DEPOT_SECTION\")\n",
    "            break\n",
    "        elseif flag_vertices\n",
    "            x, y = split(line)[2:3]\n",
    "            x = parse(Int32, x)\n",
    "            y = parse(Int32, y)\n",
    "            push!(vertices, (x,y))\n",
    "        else\n",
    "            premio = split(line)[2]\n",
    "            premio = parse(Int32, premio)\n",
    "            push!(premios, premio)\n",
    "\n",
    "        end\n",
    "    end\n",
    "    return (vertices, premios)\n",
    "end"
   ]
  },
  {
   "cell_type": "code",
   "execution_count": 104,
   "id": "8ffac488",
   "metadata": {},
   "outputs": [
    {
     "data": {
      "text/plain": [
       "get_distancias (generic function with 1 method)"
      ]
     },
     "execution_count": 104,
     "metadata": {},
     "output_type": "execute_result"
    }
   ],
   "source": [
    "function get_distancias(vertices)\n",
    "    cardinalidade = length(vertices)\n",
    "    distancias = zeros(cardinalidade, cardinalidade)\n",
    "    for i in 1:cardinalidade\n",
    "        for j in 1:cardinalidade\n",
    "            #println(i,j)\n",
    "            distancias[i, j] =  ((vertices[i][1] - vertices[j][1])^2 + (vertices[i][2] - vertices[j][2])^2)^(0.5)\n",
    "        end\n",
    "    end\n",
    "    return distancias\n",
    "end"
   ]
  },
  {
   "cell_type": "code",
   "execution_count": 105,
   "id": "07c6d36d",
   "metadata": {},
   "outputs": [
    {
     "data": {
      "text/plain": [
       "get_arestas (generic function with 1 method)"
      ]
     },
     "execution_count": 105,
     "metadata": {},
     "output_type": "execute_result"
    }
   ],
   "source": [
    "function get_arestas(vertices)\n",
    "    cardinalidade = length(vertices)\n",
    "    arestas = zeros(Int8, cardinalidade, cardinalidade)\n",
    "    return arestas\n",
    "end"
   ]
  },
  {
   "cell_type": "code",
   "execution_count": 106,
   "id": "412403c4",
   "metadata": {},
   "outputs": [
    {
     "data": {
      "text/plain": [
       "(Any[(82, 76), (96, 44), (50, 5), (49, 8), (13, 7), (29, 89), (58, 30), (84, 39), (14, 24), (2, 39)  …  (5, 42), (42, 9), (61, 62), (9, 97), (80, 55), (57, 69), (23, 15), (20, 70), (85, 60), (98, 5)], Any[0, 19, 21, 6, 19, 7, 12, 16, 6, 16  …  4, 8, 24, 24, 2, 20, 15, 2, 14, 9])"
      ]
     },
     "execution_count": 106,
     "metadata": {},
     "output_type": "execute_result"
    }
   ],
   "source": [
    "file = \"instancias/A-n32-k5.vrp\"\n",
    "vertices, premios = parse_file(file)"
   ]
  },
  {
   "cell_type": "code",
   "execution_count": 107,
   "id": "334e5f28",
   "metadata": {},
   "outputs": [
    {
     "data": {
      "text/plain": [
       "32×32 Array{Float64,2}:\n",
       "   0.0      34.9285    77.8781   75.5844   …   62.2896  16.2788    72.7805\n",
       "  34.9285    0.0       60.3075   59.203        80.3243  19.4165    39.0512\n",
       "  77.8781   60.3075     0.0       3.16228      71.5891  65.192     48.0\n",
       "  75.5844   59.203      3.16228   0.0          68.4471  63.2456    49.0918\n",
       "  97.5807   90.8735    37.054    36.0139       63.3877  89.4036    85.0235\n",
       "  54.5711   80.7094    86.5852   83.4326   …   21.0238  63.0635   108.706\n",
       "  51.8845   40.4969    26.2488   23.7697       55.1725  40.3609    47.1699\n",
       "  37.054    13.0       48.0833   46.7547       71.1126  21.0238    36.7696\n",
       "  85.6037   84.4038    40.7063   38.4838       46.3897  79.6053    86.122\n",
       "  88.1419   94.1329    58.8218   56.3028       35.8469  85.6154   101.843\n",
       "  79.2275  100.464     90.2109   87.1321   …   20.8087  84.8999   122.287\n",
       " 101.415    97.1442    45.2769   44.0454       61.8466  94.3398    93.1343\n",
       "  28.8444    8.24621   67.1789   65.8559       80.05    15.2643    47.0\n",
       "   ⋮                                       ⋱             ⋮        \n",
       "  36.2353   67.2086    88.0      85.0059   …   37.8021  48.1041   100.24\n",
       "  64.0312   30.0666    48.8365   49.366        96.0208  47.8017     9.0\n",
       "  84.1724   91.022     58.258    55.6058       31.7648  82.0      100.09\n",
       "  78.032    64.3506     8.94427   7.07107      64.846   66.7083    56.1427\n",
       "  25.2389   39.3573    58.0517   55.3173       41.7732  24.0832    67.9559\n",
       "  75.9605  101.872    100.722    97.5756   …   29.1548  84.5281   128.004\n",
       "  21.095    19.4165    58.3095   56.3028       61.8466   7.07107   53.1413\n",
       "  25.9615   46.3249    64.3817   61.5224       37.0135  29.4109    76.0066\n",
       "  84.8646   78.5493    28.7924   26.9258       55.0818  76.6094    75.6637\n",
       "  62.2896   80.3243    71.5891   68.4471        0.0     65.7647   101.533\n",
       "  16.2788   19.4165    65.192    63.2456   …   65.7647   0.0       56.5155\n",
       "  72.7805   39.0512    48.0      49.0918      101.533   56.5155     0.0"
      ]
     },
     "execution_count": 107,
     "metadata": {},
     "output_type": "execute_result"
    }
   ],
   "source": [
    "distancias = get_distancias(vertices)"
   ]
  },
  {
   "cell_type": "code",
   "execution_count": 108,
   "id": "e0c2c68c",
   "metadata": {},
   "outputs": [
    {
     "data": {
      "text/plain": [
       "32×32 Array{Int8,2}:\n",
       " 0  0  0  0  0  0  0  0  0  0  0  0  0  …  0  0  0  0  0  0  0  0  0  0  0  0\n",
       " 0  0  0  0  0  0  0  0  0  0  0  0  0     0  0  0  0  0  0  0  0  0  0  0  0\n",
       " 0  0  0  0  0  0  0  0  0  0  0  0  0     0  0  0  0  0  0  0  0  0  0  0  0\n",
       " 0  0  0  0  0  0  0  0  0  0  0  0  0     0  0  0  0  0  0  0  0  0  0  0  0\n",
       " 0  0  0  0  0  0  0  0  0  0  0  0  0     0  0  0  0  0  0  0  0  0  0  0  0\n",
       " 0  0  0  0  0  0  0  0  0  0  0  0  0  …  0  0  0  0  0  0  0  0  0  0  0  0\n",
       " 0  0  0  0  0  0  0  0  0  0  0  0  0     0  0  0  0  0  0  0  0  0  0  0  0\n",
       " 0  0  0  0  0  0  0  0  0  0  0  0  0     0  0  0  0  0  0  0  0  0  0  0  0\n",
       " 0  0  0  0  0  0  0  0  0  0  0  0  0     0  0  0  0  0  0  0  0  0  0  0  0\n",
       " 0  0  0  0  0  0  0  0  0  0  0  0  0     0  0  0  0  0  0  0  0  0  0  0  0\n",
       " 0  0  0  0  0  0  0  0  0  0  0  0  0  …  0  0  0  0  0  0  0  0  0  0  0  0\n",
       " 0  0  0  0  0  0  0  0  0  0  0  0  0     0  0  0  0  0  0  0  0  0  0  0  0\n",
       " 0  0  0  0  0  0  0  0  0  0  0  0  0     0  0  0  0  0  0  0  0  0  0  0  0\n",
       " ⋮              ⋮              ⋮        ⋱  ⋮              ⋮              ⋮  \n",
       " 0  0  0  0  0  0  0  0  0  0  0  0  0  …  0  0  0  0  0  0  0  0  0  0  0  0\n",
       " 0  0  0  0  0  0  0  0  0  0  0  0  0     0  0  0  0  0  0  0  0  0  0  0  0\n",
       " 0  0  0  0  0  0  0  0  0  0  0  0  0     0  0  0  0  0  0  0  0  0  0  0  0\n",
       " 0  0  0  0  0  0  0  0  0  0  0  0  0     0  0  0  0  0  0  0  0  0  0  0  0\n",
       " 0  0  0  0  0  0  0  0  0  0  0  0  0     0  0  0  0  0  0  0  0  0  0  0  0\n",
       " 0  0  0  0  0  0  0  0  0  0  0  0  0  …  0  0  0  0  0  0  0  0  0  0  0  0\n",
       " 0  0  0  0  0  0  0  0  0  0  0  0  0     0  0  0  0  0  0  0  0  0  0  0  0\n",
       " 0  0  0  0  0  0  0  0  0  0  0  0  0     0  0  0  0  0  0  0  0  0  0  0  0\n",
       " 0  0  0  0  0  0  0  0  0  0  0  0  0     0  0  0  0  0  0  0  0  0  0  0  0\n",
       " 0  0  0  0  0  0  0  0  0  0  0  0  0     0  0  0  0  0  0  0  0  0  0  0  0\n",
       " 0  0  0  0  0  0  0  0  0  0  0  0  0  …  0  0  0  0  0  0  0  0  0  0  0  0\n",
       " 0  0  0  0  0  0  0  0  0  0  0  0  0     0  0  0  0  0  0  0  0  0  0  0  0"
      ]
     },
     "execution_count": 108,
     "metadata": {},
     "output_type": "execute_result"
    }
   ],
   "source": [
    "arestas = get_arestas(vertices)"
   ]
  },
  {
   "cell_type": "code",
   "execution_count": 109,
   "id": "4b6fa66a",
   "metadata": {},
   "outputs": [],
   "source": [
    "# teste\n",
    "for file in readdir(\"instancias\"; join=true)\n",
    "    #println(file)\n",
    "    vertices, premios = parse_file(file)\n",
    "    distancias = get_distancias(vertices)\n",
    "    arestas = get_arestas(vertices)\n",
    "    if !(size(distancias)[1] == size(vertices)[1])\n",
    "        println(\"Erro \", file)\n",
    "    end\n",
    "end"
   ]
  },
  {
   "cell_type": "code",
   "execution_count": null,
   "id": "eb5a5056",
   "metadata": {},
   "outputs": [],
   "source": []
  }
 ],
 "metadata": {
  "kernelspec": {
   "display_name": "Julia 1.4.1",
   "language": "julia",
   "name": "julia-1.4"
  },
  "language_info": {
   "file_extension": ".jl",
   "mimetype": "application/julia",
   "name": "julia",
   "version": "1.4.1"
  }
 },
 "nbformat": 4,
 "nbformat_minor": 5
}
