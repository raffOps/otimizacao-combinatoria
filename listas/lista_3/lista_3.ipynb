{
 "cells": [
  {
   "cell_type": "code",
   "execution_count": 1,
   "id": "progressive-wallet",
   "metadata": {},
   "outputs": [],
   "source": [
    "using JuMP\n",
    "using GLPK\n",
    "using Formatting"
   ]
  },
  {
   "cell_type": "code",
   "execution_count": 2,
   "id": "seventh-capability",
   "metadata": {},
   "outputs": [],
   "source": [
    "model =  Model(GLPK.Optimizer);"
   ]
  },
  {
   "cell_type": "code",
   "execution_count": 3,
   "id": "advance-comparative",
   "metadata": {},
   "outputs": [],
   "source": [
    "@variable(model, x1>=0)\n",
    "@variable(model, x2>=0)\n",
    "@variable(model, x3>=0);"
   ]
  },
  {
   "cell_type": "code",
   "execution_count": 4,
   "id": "changing-seating",
   "metadata": {},
   "outputs": [],
   "source": [
    "@constraints(model, begin\n",
    "    -x1+x2+x3 <= 4\n",
    "    2x1-x2+x3<=2\n",
    "    x1+x2+3x3<=12\n",
    "    end)"
   ]
  },
  {
   "cell_type": "code",
   "execution_count": 5,
   "id": "informal-theater",
   "metadata": {},
   "outputs": [
    {
     "data": {
      "text/latex": [
       "$$ 2 x1 - 2 x2 + 3 x3 $$"
      ],
      "text/plain": [
       "2 x1 - 2 x2 + 3 x3"
      ]
     },
     "execution_count": 5,
     "metadata": {},
     "output_type": "execute_result"
    }
   ],
   "source": [
    "@objective(model, Max, 2x1-2x2+3x3)"
   ]
  },
  {
   "cell_type": "code",
   "execution_count": 6,
   "id": "acute-worry",
   "metadata": {},
   "outputs": [
    {
     "name": "stdout",
     "output_type": "stream",
     "text": [
      "model = A JuMP Model\n",
      "Maximization problem with:\n",
      "Variables: 3\n",
      "Objective function type: GenericAffExpr{Float64,VariableRef}\n",
      "`GenericAffExpr{Float64,VariableRef}`-in-`MathOptInterface.LessThan{Float64}`: 3 constraints\n",
      "`VariableRef`-in-`MathOptInterface.GreaterThan{Float64}`: 3 constraints\n",
      "Model mode: AUTOMATIC\n",
      "CachingOptimizer state: EMPTY_OPTIMIZER\n",
      "Solver name: GLPK\n",
      "Names registered in the model: x1, x2, x3\n"
     ]
    },
    {
     "data": {
      "text/latex": [
       "$$ \\begin{alignat*}{1}\\max\\quad & 2 x1 - 2 x2 + 3 x3\\\\\n",
       "\\text{Subject to} \\quad & -x1 + x2 + x3 \\leq 4.0\\\\\n",
       " & 2 x1 - x2 + x3 \\leq 2.0\\\\\n",
       " & x1 + x2 + 3 x3 \\leq 12.0\\\\\n",
       " & x1 \\geq 0.0\\\\\n",
       " & x2 \\geq 0.0\\\\\n",
       " & x3 \\geq 0.0\\\\\n",
       "\\end{alignat*}\n",
       " $$"
      ],
      "text/plain": [
       "A JuMP Model\n",
       "Maximization problem with:\n",
       "Variables: 3\n",
       "Objective function type: GenericAffExpr{Float64,VariableRef}\n",
       "`GenericAffExpr{Float64,VariableRef}`-in-`MathOptInterface.LessThan{Float64}`: 3 constraints\n",
       "`VariableRef`-in-`MathOptInterface.GreaterThan{Float64}`: 3 constraints\n",
       "Model mode: AUTOMATIC\n",
       "CachingOptimizer state: EMPTY_OPTIMIZER\n",
       "Solver name: GLPK\n",
       "Names registered in the model: x1, x2, x3"
      ]
     },
     "execution_count": 6,
     "metadata": {},
     "output_type": "execute_result"
    }
   ],
   "source": [
    "@show model"
   ]
  },
  {
   "cell_type": "code",
   "execution_count": 7,
   "id": "incoming-bhutan",
   "metadata": {},
   "outputs": [],
   "source": [
    "optimize!(model)"
   ]
  },
  {
   "cell_type": "code",
   "execution_count": 10,
   "id": "passing-exclusion",
   "metadata": {},
   "outputs": [
    {
     "name": "stdout",
     "output_type": "stream",
     "text": [
      "value(x1) = 0.0\n",
      "value(x2) = 1.0\n",
      "value(x3) = 3.0\n"
     ]
    },
    {
     "data": {
      "text/plain": [
       "3.0"
      ]
     },
     "execution_count": 10,
     "metadata": {},
     "output_type": "execute_result"
    }
   ],
   "source": [
    "@show value(x1)\n",
    "@show value(x2)\n",
    "@show value(x3)"
   ]
  },
  {
   "cell_type": "code",
   "execution_count": 11,
   "id": "approximate-methodology",
   "metadata": {},
   "outputs": [
    {
     "name": "stdout",
     "output_type": "stream",
     "text": [
      "objective_value(model) = 7.0\n"
     ]
    },
    {
     "data": {
      "text/plain": [
       "7.0"
      ]
     },
     "execution_count": 11,
     "metadata": {},
     "output_type": "execute_result"
    }
   ],
   "source": [
    "@show objective_value(model)"
   ]
  },
  {
   "cell_type": "code",
   "execution_count": null,
   "id": "sharing-stock",
   "metadata": {},
   "outputs": [],
   "source": []
  }
 ],
 "metadata": {
  "kernelspec": {
   "display_name": "Julia 1.4.1",
   "language": "julia",
   "name": "julia-1.4"
  },
  "language_info": {
   "file_extension": ".jl",
   "mimetype": "application/julia",
   "name": "julia",
   "version": "1.4.1"
  }
 },
 "nbformat": 4,
 "nbformat_minor": 5
}
