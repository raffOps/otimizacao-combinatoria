{
 "cells": [
  {
   "cell_type": "markdown",
   "id": "737ce3f7",
   "metadata": {},
   "source": [
    "# Rota mais valiosa\n",
    "Instância Um grafo completo G = (V, A) com distâncias da, a ∈ A, entre os vértices, prêmios pv,\n",
    "v ∈ V , nos vértices e um vértice de origem vo ∈ V .\n",
    "Solução Uma rota R = (vo, v1, v2, . . . , vk, vo) inciando e terminando em vo com vértices intermediários vi ∈ V . Cada vértice em V \\ {vo} pode ser contido no máximo um vez em R.\n",
    "Objetivo Minimizar o valor total v(R) = dvo,v1 +\n",
    "∑\n",
    "i∈[k−1] dvi,vi+1 + dvk,vo −\n",
    "∑\n",
    "i∈[k]\n",
    "pvi da rota."
   ]
  },
  {
   "cell_type": "markdown",
   "id": "d98f3027",
   "metadata": {},
   "source": [
    "## Variáveis\n",
    "- D -> Matriz de adjacência com o peso de cada aresta \n",
    " - A -> Matriz de adjacência com a booleano informando se a aresta pertence ou não a solução\n",
    " - P -> Lista com o peso (prêmio) de cada vértice\n",
    " - V -> Lista com a booleano informando se o vértice foi visitado ou não"
   ]
  },
  {
   "cell_type": "markdown",
   "id": "0514e628",
   "metadata": {},
   "source": [
    "## Modelagem\n",
    "Minimizar \n",
    "    $\\sum_{i=0}^{V-1}\\sum_{j=0}^{V-1} D_{(i,j)} * A_{(i,j)} - \\sum_{i=0}^{V-1} P_{(i)} * V_{(i)}$\n",
    "\n",
    "\n",
    "Sujeito:\n",
    "    \n",
    " - A aresta i,j pode (1) ou não (0) estar contido na solução: \n",
    "     $A_{(i,j)} \\in \\{0,1\\}$ \n",
    " \n",
    " \n",
    " - O vértica i pode (1) ou não (0) estar contido em algumas das arestas da solução:\n",
    "     $V_{(i)} \\in \\{0,1\\}$ \n",
    " \n",
    " \n",
    " - A aresta que sai do vértice 0, que é vértice de partida, deve obrigatoriamente estar contido na solução\n",
    "     $\\sum_{j=0}^{V-1} A_{(0,j)} = 1$\n",
    " \n",
    " \n",
    " - A aresta que chega no vértice 0, que é vértice de destino, deve obrigatoriamente estar contido na solução\n",
    "     $\\sum_{i=0}^{V-1} A_{(i,0)} = 1$\n",
    " \n",
    " \n",
    " - Vinculação dos vértice visitados com os prêmios destes.\n",
    "     $\\sum_{i=0}^{V-1} A_{(i,j)} = V_{i}$\n",
    " \n",
    " \n",
    " - Um vértice não pode estar contido como destino em mais de 1 aresta da solução\n",
    "     $\\sum_{i=0}^{V-1} A_{(i,j)} <= 1 $ para todo j $ \\in \\{0,..,V-1\\}$\n",
    " \n",
    " \n",
    " - Um vértice não pode estar contido como partida em mais de 1 aresta da solução\n",
    "     $\\sum_{j=0}^{V-1} A_{(i,j)} <= 1 $ para todo i $ \\in \\{0,..,V-1\\}$\n",
    " \n",
    " \n",
    " - Se um vértice está contido como partida em alguma aresta da solução, ele obrigatoriamente deve estar contido como destino em alguma aresta da solução \n",
    "     $\\sum_{i=0}^{V-1}\\sum_{j=0}^{V-1} A_{(i,j)} + A_{(j, i)} = 0  $"
   ]
  },
  {
   "cell_type": "code",
   "execution_count": null,
   "id": "4d40ae34",
   "metadata": {},
   "outputs": [],
   "source": []
  }
 ],
 "metadata": {
  "kernelspec": {
   "display_name": "Julia 1.4.1",
   "language": "julia",
   "name": "julia-1.4"
  },
  "language_info": {
   "file_extension": ".jl",
   "mimetype": "application/julia",
   "name": "julia",
   "version": "1.4.1"
  }
 },
 "nbformat": 4,
 "nbformat_minor": 5
}
