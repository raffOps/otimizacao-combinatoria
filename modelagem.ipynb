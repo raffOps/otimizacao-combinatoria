{
 "cells": [
  {
   "cell_type": "markdown",
   "id": "770e365f",
   "metadata": {},
   "source": [
    "# Rota mais valiosa\n",
    "Instância Um grafo completo G = (V, A) com distâncias da, a ∈ A, entre os vértices, prêmios pv,\n",
    "v ∈ V , nos vértices e um vértice de origem vo ∈ V .\n",
    "Solução Uma rota R = (vo, v1, v2, . . . , vk, vo) inciando e terminando em vo com vértices intermediários vi ∈ V . Cada vértice em V \\ {vo} pode ser contido no máximo um vez em R.\n",
    "Objetivo Minimizar o valor total v(R) = dvo,v1 +\n",
    "∑\n",
    "i∈[k−1] dvi,vi+1 + dvk,vo −\n",
    "∑\n",
    "i∈[k]\n",
    "pvi da rota.\n",
    "\n",
    "## Variáveis\n",
    "- D -> Matriz de adjacência com o peso de cada aresta. Tamanho K,K\n",
    "- A -> Matriz de adjacência com a booleano informando se a aresta pertence ou não a solução. Tamanho K,K\n",
    "- P -> Lista com o peso (prêmio) de cada vértice. Tamanho K\n",
    "- V -> Lista com a booleano informando se o vértice foi visitado ou não. Tamanho K\n",
    "- U -> Lista auxiliar para eliminação de subrotas. Tamanho K\n",
    "\n",
    "## Modelagem\n",
    "Minimizar \n",
    "    $\\sum_{i=1}^{N}\\sum_{j=1}^{K} D_{(i,j)} * A_{(i,j)} - \\sum_{i=1}^{K} P_{(i)} * V_{(i)}$\n",
    "\n",
    "\n",
    "Sujeito:\n",
    "    \n",
    " 1. A aresta i,j pode (1) ou não (0) estar contido na solução: \n",
    "     \n",
    "     $A_{(i,j)} \\in \\{0,1\\},\\ \\forall_{i,j} \\in \\{1,..,K\\}$ \n",
    " \n",
    " \n",
    " 2. O vértica i pode (1) ou não (0) estar contido em algumas das arestas da solução:\n",
    "     \n",
    "     $V_{(i)} \\in \\{0,1\\}, \\forall_{i,j} \\in \\{1,..,K\\}$ \n",
    " \n",
    " \n",
    " 3. A aresta que sai do vértice 1, que é vértice de partida, deve obrigatoriamente estar contido na solução\n",
    "     \n",
    "     $\\sum_{j=1}^{K} A_{1,j} = 1$\n",
    " \n",
    " \n",
    " 4. A aresta que chega no vértice 1, que é vértice de destino, deve obrigatoriamente estar contido na solução\n",
    "     \n",
    "     $\\sum_{i=1}^{K} A_{i,1} = 1$\n",
    " \n",
    " \n",
    " 5. Vinculação dos vértice visitados com os prêmios destes.\n",
    "     \n",
    "     $\\sum_{j=1}^{K} A_{i,j} = V_{i},\\ \\forall_{i} \\in \\{1,..,K\\}$\n",
    " \n",
    " \n",
    " 6. Um vértice não pode estar contido como destino em mais de 1 aresta da solução\n",
    "     \n",
    "     $\\sum_{i=1}^{K} A_{i,j} <= 1,\\ \\forall_{j} \\in \\{1,..,K\\}$\n",
    " \n",
    " \n",
    " 7. Um vértice não pode estar contido como partida em mais de 1 aresta da solução\n",
    "     \n",
    "     $\\sum_{j=1}^{K} A_{i,j} <= 1,\\ \\forall_{i} \\in \\{1,..,K\\}$\n",
    "     \n",
    "     \n",
    " 8. Um aresta não pode conter o mesmo vértice como partida e destino\n",
    "     \n",
    "     $A_{i,i} = 0,\\ \\forall_{i} \\in \\{1,..,K\\}$\n",
    " \n",
    " \n",
    " 9. Restrições para eliminação de subrotas\n",
    "     \n",
    "     $U_{i} - U_{j} + K*A_{i,j} \\le K - 1,\\ \\forall_{i,j} \\in \\{1,..,K\\}, i \\neq j $\n",
    "     \n",
    "     $2 \\le U_{i},\\ \\forall_{i} \\in \\{2,..,K\\}$\n",
    "     \n",
    "     $U_{i} \\le K,\\ \\forall_{i} \\in \\{2,..,K\\}$\n",
    "     \n",
    "     $ U_{1} == 1 $\n",
    "\n",
    "## Código"
   ]
  },
  {
   "cell_type": "code",
   "execution_count": 1,
   "id": "6044968c",
   "metadata": {},
   "outputs": [],
   "source": [
    "using GLPK\n",
    "using JuMP"
   ]
  },
  {
   "cell_type": "markdown",
   "id": "a3d78607",
   "metadata": {},
   "source": [
    "## Parser"
   ]
  },
  {
   "cell_type": "code",
   "execution_count": 2,
   "id": "db423c86",
   "metadata": {},
   "outputs": [
    {
     "data": {
      "text/plain": [
       "get_distancias (generic function with 1 method)"
      ]
     },
     "execution_count": 2,
     "metadata": {},
     "output_type": "execute_result"
    }
   ],
   "source": [
    "function parse_file(file)\n",
    "    instancia = open(\"instancias/\"*file)\n",
    "    arr  = []\n",
    "    for line in eachline(instancia)\n",
    "        push!(arr, line)\n",
    "    end\n",
    "    close(instancia)\n",
    "    \n",
    "    vertices = []\n",
    "    premios = []\n",
    "    flag_vertices = true\n",
    "    for line in arr[8:length(arr)]\n",
    "        if startswith(line, \"DEMAND_SECTION\")\n",
    "            flag_vertices = false\n",
    "        elseif startswith(line, \"DEPOT_SECTION\")\n",
    "            break\n",
    "        elseif flag_vertices\n",
    "            x, y = split(line)[2:3]\n",
    "            x = parse(Int32, x)\n",
    "            y = parse(Int32, y)\n",
    "            push!(vertices, (x,y))\n",
    "        else\n",
    "            premio = split(line)[2]\n",
    "            premio = parse(Int32, premio)\n",
    "            push!(premios, premio)\n",
    "\n",
    "        end\n",
    "    end\n",
    "    return (vertices, premios)\n",
    "end\n",
    "\n",
    "\n",
    "function get_distancias(vertices)\n",
    "    cardinalidade = length(vertices)\n",
    "    distancias = zeros(cardinalidade, cardinalidade)\n",
    "    for i in 1:cardinalidade\n",
    "        for j in 1:cardinalidade\n",
    "            distancia = ((vertices[i][1] - vertices[j][1])^2 + (vertices[i][2] - vertices[j][2])^2)^(0.5)\n",
    "            distancias[i, j] =  round(distancia)\n",
    "        end\n",
    "    end\n",
    "    return distancias\n",
    "end"
   ]
  },
  {
   "cell_type": "markdown",
   "id": "7664c096",
   "metadata": {},
   "source": [
    "### Modelagem"
   ]
  },
  {
   "cell_type": "code",
   "execution_count": 6,
   "id": "560b3427",
   "metadata": {},
   "outputs": [
    {
     "data": {
      "text/plain": [
       "otimiza (generic function with 1 method)"
      ]
     },
     "execution_count": 6,
     "metadata": {},
     "output_type": "execute_result"
    }
   ],
   "source": [
    "function otimiza(arquivo)\n",
    "    v, P = parse_file(arquivo)\n",
    "    D = get_distancias(v)\n",
    "    k = length(P);\n",
    "    #k=6;\n",
    "    m = Model(GLPK.Optimizer)\n",
    "    @variable(m, A[1:k, 1:k], Bin)\n",
    "    @variable(m, V[1:k], Bin);\n",
    "    @variable(m, u[1:k]);\n",
    "\n",
    "    @objective(m, Min, sum(D[1:k] .* A[1:k]) - sum(P[1:k] .* V[1:k]));\n",
    "\n",
    "    @constraints(m, begin\n",
    "        #3\n",
    "        sum(A[i,1] for i=1:k) == 1\n",
    "\n",
    "        #4\n",
    "        sum(A[1,j] for j=1:k) == 1\n",
    "\n",
    "        #5\n",
    "        [i=1:k], sum(A[i,j] for j=1:k) == V[i] \n",
    "\n",
    "        #6\n",
    "        [i=1:k], sum(A[i,j] for j=1:k) <= 1\n",
    "\n",
    "        #7\n",
    "        [j=1:k], sum(A[i,j] for i=1:k) <= 1\n",
    "\n",
    "        #8\n",
    "        [i=1:k], A[i,i] == 0\n",
    "\n",
    "        #9    \n",
    "        [i=2:k,j=2:k; i!=j], u[i] - u[j] + k*A[i,j] <= k - 1\n",
    "        [i=2:k], 2 <= u[i]\n",
    "        [i=2:k], u[i] <= k\n",
    "        u[1] == 1\n",
    "        end\n",
    "    )\n",
    "    set_time_limit_sec(m, 1800)\n",
    "    optimize!(m)\n",
    "    @show objective_value(m)\n",
    "    return m, A\n",
    "end"
   ]
  },
  {
   "cell_type": "code",
   "execution_count": 7,
   "id": "25557f0a",
   "metadata": {},
   "outputs": [
    {
     "name": "stdout",
     "output_type": "stream",
     "text": [
      "A-n32-k5.vrp\n",
      "A-n80-k10.vrp\n",
      "B-n31-k5.vrp\n",
      "B-n78-k10.vrp\n",
      "E-n101-k14.vrp\n",
      "E-n76-k8.vrp\n",
      "F-n72-k4.vrp\n",
      "G-n262-k25.vrp\n",
      "M-n101-k10.vrp\n",
      "M-n200-k17.vrp\n",
      "P-n101-k4.vrp\n",
      "P-n76-k5.vrp\n"
     ]
    }
   ],
   "source": [
    "# teste\n",
    "for file in readdir(\"instancias\")\n",
    "    println(file)\n",
    "end"
   ]
  },
  {
   "cell_type": "code",
   "execution_count": 30,
   "id": "a4b38700",
   "metadata": {},
   "outputs": [
    {
     "name": "stdout",
     "output_type": "stream",
     "text": [
      "objective_value(m) = -1361.0\n"
     ]
    }
   ],
   "source": [
    "file = \"P-n76-k5.vrp\"\n",
    "\n",
    "m, A = otimiza(file);\n",
    "\n",
    "open(\"resultados/\" *file * \".log\", \"w\") do file\n",
    "    for i in 1:size(A)[1]\n",
    "        if 1.0 in JuMP.value.(A)[1,:]\n",
    "            println(file, i,\" \", argmax(JuMP.value.(A)[i,:]))\n",
    "        end\n",
    "    end\n",
    "end"
   ]
  },
  {
   "cell_type": "code",
   "execution_count": null,
   "id": "fca276d1",
   "metadata": {},
   "outputs": [],
   "source": []
  }
 ],
 "metadata": {
  "kernelspec": {
   "display_name": "Julia 1.4.1",
   "language": "julia",
   "name": "julia-1.4"
  },
  "language_info": {
   "file_extension": ".jl",
   "mimetype": "application/julia",
   "name": "julia",
   "version": "1.4.1"
  }
 },
 "nbformat": 4,
 "nbformat_minor": 5
}
